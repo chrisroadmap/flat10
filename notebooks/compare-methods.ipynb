{
 "cells": [
  {
   "cell_type": "markdown",
   "id": "84154dde-e1e9-4ecc-8ab3-d95b0c7b190a",
   "metadata": {},
   "source": [
    "# Compare methods\n",
    "\n",
    "## First compare methods, then compare calibrations."
   ]
  },
  {
   "cell_type": "code",
   "execution_count": null,
   "id": "2b6c80a5-7651-4268-877f-e264027eb32f",
   "metadata": {},
   "outputs": [],
   "source": [
    "import os\n",
    "import matplotlib.pyplot as pl\n",
    "import numpy as np\n",
    "import pandas as pd"
   ]
  },
  {
   "cell_type": "code",
   "execution_count": null,
   "id": "665eeac9-9836-4596-ba97-52f13a9b7a2d",
   "metadata": {},
   "outputs": [],
   "source": [
    "os.makedirs('../plots', exist_ok=True)"
   ]
  },
  {
   "cell_type": "code",
   "execution_count": null,
   "id": "7497a63b-e122-474b-bfcd-4c7f9f9e430f",
   "metadata": {},
   "outputs": [],
   "source": [
    "calibrations = ['1.2.0', '1.4.0', '1.4.1']"
   ]
  },
  {
   "cell_type": "code",
   "execution_count": null,
   "id": "ee891cc3-7cd2-44db-a2fe-6a454f83501d",
   "metadata": {},
   "outputs": [],
   "source": [
    "df_flat10 = {}\n",
    "df_1pctCO2 = {}\n",
    "for cal in calibrations:\n",
    "    df_flat10[cal] = pd.read_csv(f'../output/flat10_key-metrics_fair2.1.3_cal{cal}.csv', index_col=0)\n",
    "    df_1pctCO2[cal] = pd.read_csv(f'../output/1pctCO2_key-metrics_fair2.1.3_cal{cal}.csv', index_col=0)"
   ]
  },
  {
   "cell_type": "code",
   "execution_count": null,
   "id": "c46a62a8-1ba7-479c-b871-b1e10837c9c5",
   "metadata": {},
   "outputs": [],
   "source": [
    "df_flat10[cal]"
   ]
  },
  {
   "cell_type": "code",
   "execution_count": null,
   "id": "ff51b60b-b58e-4be6-920f-42b7ce120c79",
   "metadata": {},
   "outputs": [],
   "source": [
    "df_1pctCO2[cal]"
   ]
  },
  {
   "cell_type": "code",
   "execution_count": null,
   "id": "dfcc4582-1e52-418c-98e0-1ac011163639",
   "metadata": {},
   "outputs": [],
   "source": [
    "low=0.75\n",
    "high=3\n",
    "for cal in calibrations:\n",
    "    fig, ax = pl.subplots(figsize=(12/2.54, 10/2.54))\n",
    "    sc = ax.scatter(df_flat10[cal][\"tcre\"], df_1pctCO2[cal][\"tcre\"], c=df_flat10[cal][\"zec50\"])\n",
    "    ax.plot((low, high), (low, high), color='k', lw=3, ls=':')\n",
    "    ax.set_xlim(low, high)\n",
    "    ax.set_ylim(low, high)\n",
    "    ax.set_xlabel(\"flat10 TCRE (K/TtC)\")\n",
    "    ax.set_ylabel(\"1pctCO2-1000PgC TCRE (K/Ttc)\")\n",
    "    cb=pl.colorbar(sc)\n",
    "    cb.set_label('flat10 ZEC50 (K)')\n",
    "    fig.tight_layout()\n",
    "    pl.savefig(f'../plots/TCRE_scatter_cal{cal}.png')"
   ]
  },
  {
   "cell_type": "code",
   "execution_count": null,
   "id": "635bee86-d08a-4439-ae55-fc7af67b0f7c",
   "metadata": {},
   "outputs": [],
   "source": [
    "low=-0.4\n",
    "high=0.9\n",
    "for cal in calibrations:\n",
    "    fig, ax = pl.subplots(figsize=(12/2.54, 10/2.54))\n",
    "    sc = pl.scatter(df_flat10[cal][\"zec50\"], df_1pctCO2[cal][\"zec50\"], c=df_flat10[cal][\"zec50\"])\n",
    "    ax.plot((low, high), (low, high), color='k', lw=3, ls=':')\n",
    "    ax.set_xlim(low, high)\n",
    "    ax.set_ylim(low, high)\n",
    "    ax.set_xlabel(\"flat10 ZEC50 (K)\")\n",
    "    ax.set_ylabel(\"1pctCO2-1000PgC ZEC50 (K)\")\n",
    "    cb=pl.colorbar(sc)\n",
    "    cb.set_label('flat10 ZEC50 (K)')\n",
    "    fig.tight_layout()\n",
    "    pl.savefig(f'../plots/ZEC50_scatter_cal{cal}.png')"
   ]
  },
  {
   "cell_type": "code",
   "execution_count": null,
   "id": "29076815-aace-4b3c-b123-e5dea8e85229",
   "metadata": {},
   "outputs": [],
   "source": [
    "low=-0.6\n",
    "high=1.3\n",
    "for cal in calibrations:\n",
    "    fig, ax = pl.subplots(figsize=(12/2.54, 10/2.54))\n",
    "    sc = ax.scatter(df_flat10[cal][\"zec100\"], df_1pctCO2[cal][\"zec100\"], c=df_flat10[cal][\"zec50\"])\n",
    "    ax.plot((low, high), (low, high), color='k', lw=3, ls=':')\n",
    "    ax.set_xlim(low, high)\n",
    "    ax.set_ylim(low, high)\n",
    "    ax.set_xlabel(\"flat10 ZEC100 (K)\")\n",
    "    ax.set_ylabel(\"1pctCO2-1000PgC ZEC100 (K)\")\n",
    "    cb=pl.colorbar(sc)\n",
    "    cb.set_label('flat10 ZEC50 (K)')\n",
    "    fig.tight_layout()\n",
    "    pl.savefig(f'../plots/ZEC100_scatter_cal{cal}.png')"
   ]
  },
  {
   "cell_type": "code",
   "execution_count": null,
   "id": "4350ddaf-0123-4167-94ad-2da9c0d02a00",
   "metadata": {},
   "outputs": [],
   "source": [
    "low=0.5\n",
    "high=3.5\n",
    "for cal in calibrations:\n",
    "    fig, ax = pl.subplots(figsize=(12/2.54, 10/2.54))\n",
    "    sc = ax.scatter(df_flat10[cal][\"tcre\"] + df_flat10[cal][\"zec50\"], df_1pctCO2[cal][\"tcre\"] + df_1pctCO2[cal][\"zec50\"], c=df_flat10[cal][\"zec50\"])\n",
    "    ax.plot((low, high), (low, high), color='k', lw=3, ls=':')\n",
    "    ax.set_xlim(low, high)\n",
    "    ax.set_ylim(low, high)\n",
    "    ax.set_xlabel(\"flat10 TCRE + ZEC50 (K)\")\n",
    "    ax.set_ylabel(\"1pctCO2-1000PgC TCRE + ZEC50 (K)\")\n",
    "    cb=pl.colorbar(sc)\n",
    "    cb.set_label('flat10 ZEC50 (K)')\n",
    "    fig.tight_layout()\n",
    "    pl.savefig(f'../plots/TCRE+ZEC50_scatter_cal{cal}.png')"
   ]
  },
  {
   "cell_type": "code",
   "execution_count": null,
   "id": "b1e03e22-816a-4e7a-9987-a402815e4577",
   "metadata": {},
   "outputs": [],
   "source": [
    "low=0.7\n",
    "high=3\n",
    "dt=0.1\n",
    "for cal in calibrations:\n",
    "    fig, ax = pl.subplots(figsize=(10/2.54, 10/2.54))\n",
    "    ax.hist(df_flat10[cal][\"tcre\"], histtype='step', lw=2, bins = np.arange(low, high+dt, dt), label='flat10')\n",
    "    ax.hist(df_1pctCO2[cal][\"tcre\"], histtype='step', lw=2, bins = np.arange(low, high+dt, dt), label='1pctCO2')\n",
    "    ax.set_xlabel('TCRE (K/TtC)')\n",
    "    ax.set_ylabel('Count')\n",
    "    ax.set_xlim(low, high)\n",
    "    ax.legend();\n",
    "    fig.tight_layout()\n",
    "    pl.savefig(f'../plots/TCRE_hist_cal{cal}.png')"
   ]
  },
  {
   "cell_type": "code",
   "execution_count": null,
   "id": "2f1ecc23-345f-48a3-a18b-39d4a4bef9b2",
   "metadata": {},
   "outputs": [],
   "source": [
    "low=-0.4\n",
    "high=0.9\n",
    "dt=0.05\n",
    "for cal in calibrations:\n",
    "    fig, ax = pl.subplots(figsize=(10/2.54, 10/2.54))\n",
    "    ax.hist(df_flat10[cal][\"zec50\"], histtype='step', lw=2, bins = np.arange(low, high+dt, dt), label='flat10')\n",
    "    ax.hist(df_1pctCO2[cal][\"zec50\"], histtype='step', lw=2, bins = np.arange(low, high+dt, dt), label='1pctCO2')\n",
    "    ax.set_xlabel('ZEC50 (K)')\n",
    "    ax.set_ylabel('Count')\n",
    "    ax.set_xlim(low, high)\n",
    "    ax.legend();\n",
    "    fig.tight_layout()\n",
    "    pl.savefig(f'../plots/ZEC50_hist_cal{cal}.png')"
   ]
  },
  {
   "cell_type": "code",
   "execution_count": null,
   "id": "5737d9f6-1445-4f71-9389-9241ff33387a",
   "metadata": {},
   "outputs": [],
   "source": [
    "low=-0.6\n",
    "high=1.3\n",
    "dt=0.05\n",
    "for cal in calibrations:\n",
    "    fig, ax = pl.subplots(figsize=(10/2.54, 10/2.54))\n",
    "    ax.hist(df_flat10[cal][\"zec100\"], histtype='step', lw=2, bins = np.arange(low, high+dt, dt), label='flat10')\n",
    "    ax.hist(df_1pctCO2[cal][\"zec100\"], histtype='step', lw=2, bins = np.arange(low, high+dt, dt), label='1pctCO2')\n",
    "    ax.set_xlabel('ZEC100 (K)')\n",
    "    ax.set_ylabel('Count')\n",
    "    ax.set_xlim(low, high)\n",
    "    ax.legend();\n",
    "    fig.tight_layout()\n",
    "    pl.savefig(f'../plots/ZEC100_hist_cal{cal}.png')"
   ]
  },
  {
   "cell_type": "code",
   "execution_count": null,
   "id": "69c232ad-2376-48cd-b01e-7dfccc56f0fa",
   "metadata": {},
   "outputs": [],
   "source": [
    "low=0.5\n",
    "high=3.5\n",
    "dt=0.1\n",
    "for cal in calibrations:\n",
    "    fig, ax = pl.subplots(figsize=(10/2.54, 10/2.54))\n",
    "    ax.hist(df_flat10[cal][\"tcre\"] + df_flat10[cal][\"zec50\"], histtype='step', lw=2, bins = np.arange(low, high+dt, dt), label='flat10')\n",
    "    ax.hist(df_1pctCO2[cal][\"tcre\"] + df_1pctCO2[cal][\"zec50\"], histtype='step', lw=2, bins = np.arange(low, high+dt, dt), label='1pctCO2')\n",
    "    ax.set_xlabel('TCRE + ZEC50 (K)')\n",
    "    ax.set_ylabel('Count')\n",
    "    ax.set_xlim(low, high)\n",
    "    ax.legend();\n",
    "    fig.tight_layout()\n",
    "    pl.savefig(f'../plots/TCRE+ZEC50_hist_cal{cal}.png')"
   ]
  },
  {
   "cell_type": "markdown",
   "id": "ee515fd9-c9f0-4aae-99d5-dc45de82cccc",
   "metadata": {},
   "source": [
    "## Compare calibrations"
   ]
  },
  {
   "cell_type": "code",
   "execution_count": null,
   "id": "9d2de6a1-eded-49af-9ab4-77a35dcfe594",
   "metadata": {},
   "outputs": [],
   "source": [
    "low=0.7\n",
    "high=3\n",
    "dt=0.1\n",
    "fig, ax = pl.subplots(figsize=(10/2.54, 10/2.54))\n",
    "ax.hist(df_1pctCO2['1.4.1'][\"tcre\"], histtype='step', lw=2, bins = np.arange(low, high+dt, dt), label='v1.4.1', color='r')\n",
    "ax.hist(df_1pctCO2['1.4.0'][\"tcre\"], histtype='step', lw=2, bins = np.arange(low, high+dt, dt), label='v1.4.0', color='k')\n",
    "ax.set_xlabel('TCRE (K/TtC)')\n",
    "ax.set_ylabel('Count')\n",
    "ax.set_xlim(low, high)\n",
    "ax.axvspan(1.0, 2.3, alpha=0.2, color='k')\n",
    "ax.legend();\n",
    "fig.tight_layout()\n",
    "pl.savefig(f'../plots/TCRE_hist_compare_1.4.0_1.4.1.png')"
   ]
  },
  {
   "cell_type": "code",
   "execution_count": null,
   "id": "cf9ce32d-7639-45b0-81fc-528ba90ed29c",
   "metadata": {},
   "outputs": [],
   "source": [
    "low=-0.4\n",
    "high=0.9\n",
    "dt=0.05\n",
    "fig, ax = pl.subplots(figsize=(10/2.54, 10/2.54))\n",
    "ax.hist(df_1pctCO2['1.4.1'][\"zec50\"], histtype='step', lw=2, bins = np.arange(low, high+dt, dt), label='v1.4.1', color='r')\n",
    "ax.hist(df_1pctCO2['1.4.0'][\"zec50\"], histtype='step', lw=2, bins = np.arange(low, high+dt, dt), label='v1.4.0', color='k')\n",
    "ax.set_xlabel('ZEC50 (K)')\n",
    "ax.set_ylabel('Count')\n",
    "ax.set_xlim(low, high)\n",
    "ax.axvline(0, lw=2, color='k', ls=':')\n",
    "ax.legend();\n",
    "fig.tight_layout()\n",
    "pl.savefig(f'../plots/ZEC50_hist_compare_1.4.0_1.4.1.png')"
   ]
  },
  {
   "cell_type": "code",
   "execution_count": null,
   "id": "4b4e201b-2654-4fe4-bae4-308f8606d820",
   "metadata": {},
   "outputs": [],
   "source": [
    "low=-0.6\n",
    "high=1.3\n",
    "dt=0.05\n",
    "fig, ax = pl.subplots(figsize=(10/2.54, 10/2.54))\n",
    "ax.hist(df_1pctCO2['1.4.1'][\"zec100\"], histtype='step', lw=2, bins = np.arange(low, high+dt, dt), label='v1.4.1', color='r')\n",
    "ax.hist(df_1pctCO2['1.4.0'][\"zec100\"], histtype='step', lw=2, bins = np.arange(low, high+dt, dt), label='v1.4.0', color='k')\n",
    "ax.set_xlabel('ZEC100 (K)')\n",
    "ax.set_ylabel('Count')\n",
    "ax.set_xlim(low, high)\n",
    "ax.axvline(0, lw=2, color='k', ls=':')\n",
    "ax.legend();\n",
    "fig.tight_layout()\n",
    "pl.savefig(f'../plots/ZEC100_hist_compare_1.4.0_1.4.1.png')"
   ]
  },
  {
   "cell_type": "code",
   "execution_count": null,
   "id": "99ac50f4-0538-48e7-bf41-beb8424b68e5",
   "metadata": {},
   "outputs": [],
   "source": [
    "df_1pctCO2['1.4.0'][\"zec50\"].quantile((.05, .50, .95))"
   ]
  },
  {
   "cell_type": "code",
   "execution_count": null,
   "id": "5587c7ed-eea0-45f7-bdb0-d451d9fdbb52",
   "metadata": {},
   "outputs": [],
   "source": [
    "df_1pctCO2['1.4.1'][\"zec50\"].quantile((.05, .50, .95))"
   ]
  },
  {
   "cell_type": "code",
   "execution_count": null,
   "id": "51872a9b-4347-4b8c-8bff-23ed86fe1add",
   "metadata": {},
   "outputs": [],
   "source": [
    "df_1pctCO2['1.4.0'][\"zec100\"].quantile((.05, .50, .95))"
   ]
  },
  {
   "cell_type": "code",
   "execution_count": null,
   "id": "0b7d096e-29ee-40f1-a66c-848fc464518e",
   "metadata": {},
   "outputs": [],
   "source": [
    "df_1pctCO2['1.4.1'][\"zec100\"].quantile((.05, .50, .95))"
   ]
  },
  {
   "cell_type": "code",
   "execution_count": null,
   "id": "adfa3ff9-126a-41e3-8d86-ee1ebcf41150",
   "metadata": {},
   "outputs": [],
   "source": [
    "df_1pctCO2['1.4.0'][\"tcre\"].quantile((.05, .50, .95))"
   ]
  },
  {
   "cell_type": "code",
   "execution_count": null,
   "id": "589095f8-6831-432c-828e-cc466c76651c",
   "metadata": {},
   "outputs": [],
   "source": [
    "df_1pctCO2['1.4.1'][\"tcre\"].quantile((.05, .50, .95))"
   ]
  },
  {
   "cell_type": "code",
   "execution_count": null,
   "id": "c2f83bdd-871f-4cc5-a796-40ecd7cd9145",
   "metadata": {},
   "outputs": [],
   "source": [
    "for cal in calibrations:\n",
    "    fig, ax = pl.subplots(figsize=(12/2.54, 10/2.54))\n",
    "    sc = pl.scatter(df_1pctCO2[cal][\"tcre\"], df_1pctCO2[cal][\"zec50\"], c=df_1pctCO2[cal][\"zec50\"])\n",
    "#    ax.plot((low, high), (low, high), color='k', lw=3, ls=':')\n",
    "#    ax.set_xlim(low, high)\n",
    "#    ax.set_ylim(low, high)\n",
    "    ax.set_xlabel(\"1pctCO2-1000PgC TCRE (K/TtC)\")\n",
    "    ax.set_ylabel(\"1pctCO2-1000PgC ZEC50 (K)\")\n",
    "    cb=pl.colorbar(sc)\n",
    "    cb.set_label('1pctCO2-1000PgC ZEC50 (K)')\n",
    "    fig.tight_layout()\n",
    "    #pl.savefig(f'../plots/ZEC50_scatter_cal{cal}.png')"
   ]
  },
  {
   "cell_type": "code",
   "execution_count": null,
   "id": "4ebacd83-87b6-41d4-b125-c63a82cbe755",
   "metadata": {},
   "outputs": [],
   "source": []
  }
 ],
 "metadata": {
  "kernelspec": {
   "display_name": "Python 3 (ipykernel)",
   "language": "python",
   "name": "python3"
  },
  "language_info": {
   "codemirror_mode": {
    "name": "ipython",
    "version": 3
   },
   "file_extension": ".py",
   "mimetype": "text/x-python",
   "name": "python",
   "nbconvert_exporter": "python",
   "pygments_lexer": "ipython3",
   "version": "3.12.1"
  }
 },
 "nbformat": 4,
 "nbformat_minor": 5
}

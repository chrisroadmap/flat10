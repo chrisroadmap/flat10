{
 "cells": [
  {
   "cell_type": "code",
   "execution_count": null,
   "id": "2b6c80a5-7651-4268-877f-e264027eb32f",
   "metadata": {},
   "outputs": [],
   "source": [
    "import matplotlib.pyplot as pl\n",
    "import pandas as pd"
   ]
  },
  {
   "cell_type": "code",
   "execution_count": null,
   "id": "ee891cc3-7cd2-44db-a2fe-6a454f83501d",
   "metadata": {},
   "outputs": [],
   "source": [
    "df_flat10 = pd.read_csv('../output/flat10_key-metrics_fair2.1.2_cal1.2.0.csv', index_col=0)\n",
    "df_1pctCO2 = pd.read_csv('../output/1pctCO2_key-metrics_fair2.1.2_cal1.2.0.csv', index_col=0)"
   ]
  },
  {
   "cell_type": "code",
   "execution_count": null,
   "id": "c46a62a8-1ba7-479c-b871-b1e10837c9c5",
   "metadata": {},
   "outputs": [],
   "source": [
    "df_flat10"
   ]
  },
  {
   "cell_type": "code",
   "execution_count": null,
   "id": "ff51b60b-b58e-4be6-920f-42b7ce120c79",
   "metadata": {},
   "outputs": [],
   "source": [
    "df_1pctCO2"
   ]
  },
  {
   "cell_type": "code",
   "execution_count": null,
   "id": "dfcc4582-1e52-418c-98e0-1ac011163639",
   "metadata": {},
   "outputs": [],
   "source": [
    "pl.scatter(df_flat10[\"tcre\"], df_1pctCO2[\"tcre\"])\n",
    "pl.plot((0.75, 3), (0.75, 3), color='k', lw=2, ls=':')\n",
    "pl.xlim(0.75, 3)\n",
    "pl.ylim(0.75, 3)"
   ]
  },
  {
   "cell_type": "code",
   "execution_count": null,
   "id": "635bee86-d08a-4439-ae55-fc7af67b0f7c",
   "metadata": {},
   "outputs": [],
   "source": [
    "low=-0.4\n",
    "high=0.9\n",
    "pl.scatter(df_flat10[\"zec50\"], df_1pctCO2[\"zec50\"])\n",
    "pl.plot((low, high), (low, high), color='k', lw=3, ls=':')\n",
    "pl.xlim(low, high)\n",
    "pl.ylim(low, high)"
   ]
  },
  {
   "cell_type": "code",
   "execution_count": null,
   "id": "29076815-aace-4b3c-b123-e5dea8e85229",
   "metadata": {},
   "outputs": [],
   "source": [
    "low=-0.5\n",
    "high=1.3\n",
    "pl.scatter(df_flat10[\"zec100\"], df_1pctCO2[\"zec100\"])\n",
    "pl.plot((low, high), (low, high), color='k', lw=3, ls=':')\n",
    "pl.xlim(low, high)\n",
    "pl.ylim(low, high)"
   ]
  },
  {
   "cell_type": "code",
   "execution_count": null,
   "id": "4350ddaf-0123-4167-94ad-2da9c0d02a00",
   "metadata": {},
   "outputs": [],
   "source": []
  }
 ],
 "metadata": {
  "kernelspec": {
   "display_name": "Python 3 (ipykernel)",
   "language": "python",
   "name": "python3"
  },
  "language_info": {
   "codemirror_mode": {
    "name": "ipython",
    "version": 3
   },
   "file_extension": ".py",
   "mimetype": "text/x-python",
   "name": "python",
   "nbconvert_exporter": "python",
   "pygments_lexer": "ipython3",
   "version": "3.12.0"
  }
 },
 "nbformat": 4,
 "nbformat_minor": 5
}

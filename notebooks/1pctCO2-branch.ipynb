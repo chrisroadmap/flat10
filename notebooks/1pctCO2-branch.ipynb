{
 "cells": [
  {
   "cell_type": "code",
   "execution_count": null,
   "id": "b47a982a-d53e-4e46-9c10-3266da5b6165",
   "metadata": {},
   "outputs": [],
   "source": [
    "import os\n",
    "import copy\n",
    "import pickle\n",
    "\n",
    "import fair\n",
    "from fair import FAIR\n",
    "from fair.interface import fill, initialise\n",
    "from fair.io import read_properties\n",
    "import pandas as pd\n",
    "import pooch\n",
    "import numpy as np\n",
    "import matplotlib.pyplot as pl\n",
    "from tqdm.auto import tqdm\n",
    "import xarray as xr"
   ]
  },
  {
   "cell_type": "code",
   "execution_count": null,
   "id": "48060486-82dc-490a-9392-12b441104e44",
   "metadata": {},
   "outputs": [],
   "source": [
    "fair.__version__"
   ]
  },
  {
   "cell_type": "code",
   "execution_count": null,
   "id": "51543f14-256f-47bf-a83a-4f7ac2072d4c",
   "metadata": {},
   "outputs": [],
   "source": [
    "species = [\"CO2\", \"CH4\", \"N2O\"]\n",
    "properties = {\n",
    "    \"CO2\": {\n",
    "        \"type\": \"co2\",\n",
    "        \"input_mode\": \"emissions\",\n",
    "        \"greenhouse_gas\": True,\n",
    "        \"aerosol_chemistry_from_emissions\": False,\n",
    "        \"aerosol_chemistry_from_concentration\": False,\n",
    "    },\n",
    "    \"CH4\": {\n",
    "        \"type\": \"ch4\",\n",
    "        \"input_mode\": \"emissions\",\n",
    "        \"greenhouse_gas\": True,\n",
    "        \"aerosol_chemistry_from_emissions\": False,\n",
    "        \"aerosol_chemistry_from_concentration\": False,\n",
    "    },\n",
    "    \"N2O\": {\n",
    "        \"type\": \"n2o\",\n",
    "        \"input_mode\": \"emissions\",\n",
    "        \"greenhouse_gas\": True,\n",
    "        \"aerosol_chemistry_from_emissions\": False,\n",
    "        \"aerosol_chemistry_from_concentration\": False,\n",
    "    },\n",
    "}"
   ]
  },
  {
   "cell_type": "code",
   "execution_count": null,
   "id": "c8137574-934e-473e-b615-ffa3b43b1095",
   "metadata": {},
   "outputs": [],
   "source": [
    "calibrations = ['1.2.0', '1.4.0', '1.4.1']\n",
    "cal_df = {}"
   ]
  },
  {
   "cell_type": "code",
   "execution_count": null,
   "id": "8507ae76-9502-4062-8317-2fd04b695b56",
   "metadata": {},
   "outputs": [],
   "source": [
    "cal_1_2_0_file = pooch.retrieve(\n",
    "    url = \"https://zenodo.org/records/8399112/files/calibrated_constrained_parameters.csv\",\n",
    "    known_hash = \"md5:de3b83432b9d071efdd1427ad31e9076\"\n",
    ")\n",
    "cal_df['1.2.0'] = pd.read_csv(cal_1_2_0_file, index_col=0)"
   ]
  },
  {
   "cell_type": "code",
   "execution_count": null,
   "id": "870b7a69-f1b4-4904-83ec-7084a4218454",
   "metadata": {},
   "outputs": [],
   "source": [
    "# Not yet on Zenodo\n",
    "cal_df['1.4.0'] = pd.read_csv('../data/calibration/v1.4.0/calibrated_constrained_parameters.csv', index_col=0)\n",
    "cal_df['1.4.1'] = pd.read_csv('../data/calibration/v1.4.1/calibrated_constrained_parameters.csv', index_col=0)"
   ]
  },
  {
   "cell_type": "code",
   "execution_count": null,
   "id": "8f79ae78-aa26-44b8-aded-875efdd1acf7",
   "metadata": {},
   "outputs": [],
   "source": [
    "with open('../output/1pctCO2-1000PgC-airborne.pkl', 'rb') as pk:\n",
    "    airborne_restarts = pickle.load(pk)\n",
    "\n",
    "with open('../output/1pctCO2-1000PgC-alpha.pkl', 'rb') as pk:\n",
    "    alpha_restarts = pickle.load(pk)\n",
    "\n",
    "with open('../output/1pctCO2-1000PgC-cumulative.pkl', 'rb') as pk:\n",
    "    cumulative_restarts = pickle.load(pk)\n",
    "\n",
    "with open('../output/1pctCO2-1000PgC-forcing.pkl', 'rb') as pk:\n",
    "    forcing_restarts = pickle.load(pk)\n",
    "\n",
    "with open('../output/1pctCO2-1000PgC-gasbox.pkl', 'rb') as pk:\n",
    "    gasbox_restarts = pickle.load(pk)\n",
    "\n",
    "with open('../output/1pctCO2-1000PgC-temperature.pkl', 'rb') as pk:\n",
    "    temperature_restarts = pickle.load(pk)"
   ]
  },
  {
   "cell_type": "code",
   "execution_count": null,
   "id": "6d9552cf-22c2-4e0d-8b68-009793d532fe",
   "metadata": {},
   "outputs": [],
   "source": [
    "scenarios = ['1pctCO2-brch-1000PgC']"
   ]
  },
  {
   "cell_type": "code",
   "execution_count": null,
   "id": "3cb69fb0-1a94-4093-9c40-ec2cb7f6dd85",
   "metadata": {},
   "outputs": [],
   "source": [
    "conc_df = pd.read_csv('../data/1pctCO2_concentrations.csv', index_col=0)"
   ]
  },
  {
   "cell_type": "code",
   "execution_count": null,
   "id": "1ef159df-146b-4756-9d5c-2870021d8c89",
   "metadata": {},
   "outputs": [],
   "source": [
    "f = {}\n",
    "for cal in calibrations:\n",
    "    f[cal] = FAIR()\n",
    "    f[cal].define_time(0, 200, 1)\n",
    "    f[cal].define_scenarios(scenarios)\n",
    "    f[cal].define_configs(list(cal_df[cal].index))\n",
    "    f[cal].define_species(species, properties)\n",
    "    f[cal].allocate()\n",
    "    \n",
    "    # fill emissions: zero\n",
    "    f[cal].emissions.loc[dict(specie=\"CO2\")] = 0\n",
    "    f[cal].emissions.loc[dict(specie=\"CH4\")] = 0\n",
    "    f[cal].emissions.loc[dict(specie=\"N2O\")] = 0\n",
    "    \n",
    "    # constant pre-industrial concentration for non-CO2 GHGs\n",
    "    f[cal].concentration.loc[dict(specie='CH4')] = 808.2490285\n",
    "    f[cal].concentration.loc[dict(specie='N2O')] = 273.021047\n",
    "    \n",
    "    # Get default species configs\n",
    "    f[cal].fill_species_configs()\n",
    "    \n",
    "    # Climate response\n",
    "    fill(f[cal].climate_configs['ocean_heat_capacity'], cal_df[cal].loc[:,'clim_c1':'clim_c3'])\n",
    "    fill(f[cal].climate_configs['ocean_heat_transfer'], cal_df[cal].loc[:,'clim_kappa1':'clim_kappa3'])\n",
    "    fill(f[cal].climate_configs['deep_ocean_efficacy'], cal_df[cal].loc[:,'clim_epsilon'])\n",
    "    fill(f[cal].climate_configs['gamma_autocorrelation'], cal_df[cal].loc[:,'clim_gamma'])\n",
    "    fill(f[cal].climate_configs['stochastic_run'], False)\n",
    "    \n",
    "    # carbon cycle\n",
    "    fill(f[cal].species_configs['iirf_0'], cal_df[cal].loc[:, 'cc_r0'].values.squeeze(), specie='CO2')\n",
    "    fill(f[cal].species_configs['iirf_airborne'], cal_df[cal].loc[:, 'cc_rA'].values.squeeze(), specie='CO2')\n",
    "    fill(f[cal].species_configs['iirf_uptake'], cal_df[cal].loc[:, 'cc_rU'].values.squeeze(), specie='CO2')\n",
    "    fill(f[cal].species_configs['iirf_temperature'], cal_df[cal].loc[:, 'cc_rT'].values.squeeze(), specie='CO2')\n",
    "    \n",
    "    # Scale CO2 forcing based on its 4xCO2 calibration\n",
    "    fill(f[cal].species_configs[\"forcing_scale\"], cal_df[cal][\"fscale_CO2\"].values.squeeze(), specie='CO2')\n",
    "    \n",
    "    # initial condition of CO2 concentration (but not baseline for forcing calculations)\n",
    "    fill(f[cal].species_configs['baseline_concentration'], 284.3169988, specie='CO2')\n",
    "    fill(f[cal].species_configs['baseline_concentration'], 808.2490285, specie='CH4')\n",
    "    fill(f[cal].species_configs['baseline_concentration'], 273.021047, specie='N2O')\n",
    "    \n",
    "    # set initial conditions\n",
    "    for iconf, config in enumerate(f[cal].configs):\n",
    "        initialise(f[cal].concentration, 808.2490285, specie=\"CH4\")\n",
    "        initialise(f[cal].concentration, 273.021047, specie=\"N2O\")\n",
    "        # I forgot to save out the CO2 concentration timebound, but luckily this data can be inferred in the xarray dump.\n",
    "        initialise(f[cal].concentration, conc_df.loc[airborne_restarts[cal][config].timebounds.data].values[0], specie=\"CO2\", config=config)\n",
    "        initialise(f[cal].forcing, forcing_restarts[cal][config], config=config)\n",
    "        initialise(f[cal].temperature, temperature_restarts[cal][config], config=config)\n",
    "        initialise(f[cal].airborne_emissions, airborne_restarts[cal][config], config=config)\n",
    "        initialise(f[cal].cumulative_emissions, cumulative_restarts[cal][config], config=config)\n",
    "        f[cal].gas_partitions[0, iconf, :, :] = gasbox_restarts[cal][config]\n",
    "    \n",
    "    f[cal].run()"
   ]
  },
  {
   "cell_type": "code",
   "execution_count": null,
   "id": "b3ef2056-4787-449b-9670-e5cf5199f5ed",
   "metadata": {},
   "outputs": [],
   "source": [
    "for cal in calibrations:\n",
    "    fig, ax = pl.subplots()\n",
    "    pl.plot(f[cal].temperature.loc[dict(layer=0, scenario=scenarios[0])]);"
   ]
  },
  {
   "cell_type": "code",
   "execution_count": null,
   "id": "62ba37e6-764e-44d5-88d0-26804493406e",
   "metadata": {},
   "outputs": [],
   "source": [
    "for cal in calibrations:\n",
    "    fig, ax = pl.subplots()\n",
    "    pl.plot(f[cal].temperature.loc[dict(layer=0, scenario=scenarios[0])][:, :10] - f[cal].temperature.loc[dict(layer=0, scenario=scenarios[0], timebounds=0)][:10]);"
   ]
  },
  {
   "cell_type": "code",
   "execution_count": null,
   "id": "f62c3e84-24c3-44af-a281-5e5ae2a9d314",
   "metadata": {},
   "outputs": [],
   "source": [
    "for cal in calibrations:\n",
    "    fig, ax = pl.subplots()\n",
    "    pl.plot(f[cal].concentration.loc[dict(specie=\"CO2\", scenario=scenarios[0])] - f[cal].concentration.loc[dict(specie=\"CO2\", scenario=scenarios[0], timebounds=0)]);"
   ]
  },
  {
   "cell_type": "code",
   "execution_count": null,
   "id": "497e9c2b-4af4-43ce-a4c8-3b6b29be157e",
   "metadata": {},
   "outputs": [],
   "source": [
    "for cal in calibrations:\n",
    "    pl.hist(f[cal].temperature.loc[dict(layer=0, timebounds=0, scenario=scenarios[0])], alpha=0.4, bins=np.arange(0.8, 3.2, 0.2), density=True)"
   ]
  },
  {
   "cell_type": "code",
   "execution_count": null,
   "id": "06d5275d-dbc8-496b-91c0-ff0ed508d926",
   "metadata": {},
   "outputs": [],
   "source": [
    "# normalise tcre to exactly 1000 PgC\n",
    "tcre_norm = {}\n",
    "for cal in calibrations:\n",
    "    tcre_norm[cal] = 44.009/12.011 * 1000 / f[cal].cumulative_emissions.loc[dict(specie=\"CO2\", timebounds=0, scenario=scenarios[0])]\n",
    "tcre_norm[cal]"
   ]
  },
  {
   "cell_type": "code",
   "execution_count": null,
   "id": "86fb24a5-ad67-4be6-9b77-ae218e65a443",
   "metadata": {},
   "outputs": [],
   "source": [
    "tcre_1pctCO2 = {}\n",
    "for cal in calibrations:\n",
    "    tcre_1pctCO2[cal] = tcre_norm[cal] * f[cal].temperature.loc[dict(layer=0, timebounds=0, scenario=scenarios[0])]"
   ]
  },
  {
   "cell_type": "code",
   "execution_count": null,
   "id": "95655f74-20ba-48f2-95bf-c7b62fa5200c",
   "metadata": {},
   "outputs": [],
   "source": [
    "zec50_1pctCO2 = {}\n",
    "for cal in calibrations:\n",
    "    zec50_1pctCO2[cal] = (\n",
    "        f[cal].temperature.loc[dict(layer=0, timebounds=50, scenario=scenarios[0])] -\n",
    "        f[cal].temperature.loc[dict(layer=0, timebounds=0, scenario=scenarios[0])]\n",
    "    )"
   ]
  },
  {
   "cell_type": "code",
   "execution_count": null,
   "id": "06036e01-daf5-4ee4-9f6f-e889f8421b66",
   "metadata": {},
   "outputs": [],
   "source": [
    "for cal in calibrations:\n",
    "    pl.hist(zec50_1pctCO2[cal], alpha=0.4, density=True, bins=np.arange(-0.4, 0.9, 0.1))"
   ]
  },
  {
   "cell_type": "code",
   "execution_count": null,
   "id": "9baa74ed-92dd-4dc0-bbf2-da8ebf18813f",
   "metadata": {},
   "outputs": [],
   "source": [
    "for cal in calibrations:\n",
    "    print(zec50_1pctCO2[cal].mean().data)"
   ]
  },
  {
   "cell_type": "code",
   "execution_count": null,
   "id": "544a38ef-f389-4b5e-a4b6-21d155eb5e65",
   "metadata": {},
   "outputs": [],
   "source": [
    "zec100_1pctCO2 = {}\n",
    "for cal in calibrations:\n",
    "    zec100_1pctCO2[cal] = (\n",
    "        f[cal].temperature.loc[dict(layer=0, timebounds=100, scenario=scenarios[0])] -\n",
    "        f[cal].temperature.loc[dict(layer=0, timebounds=0, scenario=scenarios[0])]\n",
    "    )"
   ]
  },
  {
   "cell_type": "code",
   "execution_count": null,
   "id": "f7a959db-9808-4b1c-b0c9-d2bf37b54a3c",
   "metadata": {},
   "outputs": [],
   "source": [
    "for cal in calibrations:\n",
    "    pl.hist(zec100_1pctCO2[cal], alpha=0.4, density=True, bins=np.arange(-0.6, 1.4, 0.1))"
   ]
  },
  {
   "cell_type": "code",
   "execution_count": null,
   "id": "c5a4c33f-6da9-4b70-a9d1-57a972b5b95a",
   "metadata": {},
   "outputs": [],
   "source": [
    "for cal in calibrations:\n",
    "    print(zec100_1pctCO2[cal].mean().data)"
   ]
  },
  {
   "cell_type": "code",
   "execution_count": null,
   "id": "1a6146ce-98f6-4b1a-aa55-6bd89f1dfc38",
   "metadata": {},
   "outputs": [],
   "source": [
    "os.makedirs('../output/', exist_ok=True)\n",
    "for cal in calibrations:\n",
    "    df = pd.DataFrame(\n",
    "        {\n",
    "            \"tcre\": tcre_1pctCO2[cal],\n",
    "            \"zec50\": zec50_1pctCO2[cal],\n",
    "            \"zec100\": zec100_1pctCO2[cal],\n",
    "        },\n",
    "        index = f[cal].configs\n",
    "    )\n",
    "    df.to_csv(f'../output/1pctCO2_key-metrics_fair2.1.3_cal{cal}.csv')"
   ]
  },
  {
   "cell_type": "code",
   "execution_count": null,
   "id": "16827c45-4d67-4c93-b287-53ebd0133697",
   "metadata": {},
   "outputs": [],
   "source": [
    "\n"
   ]
  },
  {
   "cell_type": "code",
   "execution_count": null,
   "id": "d5c8675f-3032-4648-b027-03475bcfe526",
   "metadata": {},
   "outputs": [],
   "source": []
  }
 ],
 "metadata": {
  "kernelspec": {
   "display_name": "Python 3 (ipykernel)",
   "language": "python",
   "name": "python3"
  },
  "language_info": {
   "codemirror_mode": {
    "name": "ipython",
    "version": 3
   },
   "file_extension": ".py",
   "mimetype": "text/x-python",
   "name": "python",
   "nbconvert_exporter": "python",
   "pygments_lexer": "ipython3",
   "version": "3.12.1"
  }
 },
 "nbformat": 4,
 "nbformat_minor": 5
}

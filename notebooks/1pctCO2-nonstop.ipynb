{
 "cells": [
  {
   "cell_type": "markdown",
   "id": "5bc49a5d-d4dd-4fc4-b077-3e5278b47ca0",
   "metadata": {},
   "source": [
    "# 1pct runs with FaIR v2.1.3"
   ]
  },
  {
   "cell_type": "code",
   "execution_count": null,
   "id": "5310091a-116a-4933-80ce-15e600e0f45c",
   "metadata": {},
   "outputs": [],
   "source": [
    "import os\n",
    "import copy\n",
    "import pickle\n",
    "\n",
    "import fair\n",
    "from fair import FAIR\n",
    "from fair.interface import fill, initialise\n",
    "from fair.io import read_properties\n",
    "import pandas as pd\n",
    "import pooch\n",
    "import numpy as np\n",
    "import matplotlib.pyplot as pl\n",
    "from tqdm.auto import tqdm\n",
    "import xarray as xr"
   ]
  },
  {
   "cell_type": "code",
   "execution_count": null,
   "id": "f4bd1bf8-4234-474e-94f6-6328e626a234",
   "metadata": {},
   "outputs": [],
   "source": [
    "fair.__version__"
   ]
  },
  {
   "cell_type": "code",
   "execution_count": null,
   "id": "b8bc6864-6105-4d49-8e90-ccff389999a1",
   "metadata": {},
   "outputs": [],
   "source": [
    "species = [\"CO2\", \"CH4\", \"N2O\"]\n",
    "properties = {\n",
    "    \"CO2\": {\n",
    "        \"type\": \"co2\",\n",
    "        \"input_mode\": \"concentration\",\n",
    "        \"greenhouse_gas\": True,\n",
    "        \"aerosol_chemistry_from_emissions\": False,\n",
    "        \"aerosol_chemistry_from_concentration\": False,\n",
    "    },\n",
    "    \"CH4\": {\n",
    "        \"type\": \"ch4\",\n",
    "        \"input_mode\": \"concentration\",\n",
    "        \"greenhouse_gas\": True,\n",
    "        \"aerosol_chemistry_from_emissions\": False,\n",
    "        \"aerosol_chemistry_from_concentration\": False,\n",
    "    },\n",
    "    \"N2O\": {\n",
    "        \"type\": \"n2o\",\n",
    "        \"input_mode\": \"concentration\",\n",
    "        \"greenhouse_gas\": True,\n",
    "        \"aerosol_chemistry_from_emissions\": False,\n",
    "        \"aerosol_chemistry_from_concentration\": False,\n",
    "    },\n",
    "}"
   ]
  },
  {
   "cell_type": "code",
   "execution_count": null,
   "id": "0c0f1565-497b-439b-8e61-0a1099e25210",
   "metadata": {},
   "outputs": [],
   "source": [
    "calibrations = ['1.4.0', '1.4.1']\n",
    "cal_df = {}"
   ]
  },
  {
   "cell_type": "code",
   "execution_count": null,
   "id": "2aeb1f9e-06f3-4f4e-9dbd-6d1b3abe162e",
   "metadata": {},
   "outputs": [],
   "source": [
    "cal_df['1.4.0'] = pd.read_csv('../data/calibration/v1.4.0/calibrated_constrained_parameters.csv', index_col=0)\n",
    "cal_df['1.4.1'] = pd.read_csv('../data/calibration/v1.4.1/calibrated_constrained_parameters.csv', index_col=0)"
   ]
  },
  {
   "cell_type": "code",
   "execution_count": null,
   "id": "09771f58-9f2b-4abd-8ddb-fa4de7c4577f",
   "metadata": {},
   "outputs": [],
   "source": [
    "conc_df = pd.read_csv('../data/1pctCO2_concentrations.csv', index_col=0)"
   ]
  },
  {
   "cell_type": "code",
   "execution_count": null,
   "id": "e60c4d6a-3579-48aa-bc7a-106b5226f4b0",
   "metadata": {},
   "outputs": [],
   "source": [
    "emissions = {}\n",
    "temperature = {}"
   ]
  },
  {
   "cell_type": "code",
   "execution_count": null,
   "id": "0937f77f-7348-4f3f-b29e-69ce1d0db053",
   "metadata": {},
   "outputs": [],
   "source": [
    "scenarios = ['1pctCO2']"
   ]
  },
  {
   "cell_type": "code",
   "execution_count": null,
   "id": "b5e6a4ab-a226-449e-ba0e-b9f18a1f8ac2",
   "metadata": {},
   "outputs": [],
   "source": [
    "# for cal in calibrations:\n",
    "#     # set up a dummy fair run for the purposes of using the structure for year[0]\n",
    "#     f_iter[cal][-1] = FAIR()\n",
    "#     f_iter[cal][-1].define_time(-1, 0, 1)\n",
    "#     f_iter[cal][-1].define_scenarios(scenarios)\n",
    "#     f_iter[cal][-1].define_species(species, properties)\n",
    "#     f_iter[cal][-1].define_configs(list(cal_df[cal].index))\n",
    "#     f_iter[cal][-1].allocate()\n",
    "#     fill(f_iter[cal][-1].forcing, 0)\n",
    "#     fill(f_iter[cal][-1].temperature, 0)\n",
    "#     fill(f_iter[cal][-1].airborne_emissions, 0)\n",
    "#     fill(f_iter[cal][-1].cumulative_emissions, 0)\n",
    "#     fill(f_iter[cal][-1].alpha_lifetime, 1)"
   ]
  },
  {
   "cell_type": "code",
   "execution_count": null,
   "id": "29c3c9f4-e59f-4331-81fd-88bed21743a4",
   "metadata": {},
   "outputs": [],
   "source": [
    "for cal in calibrations:\n",
    "    f = FAIR()\n",
    "    f.define_time(0, 140, 1)\n",
    "    f.define_scenarios(scenarios)\n",
    "    f.define_species(species, properties)\n",
    "    f.define_configs(list(cal_df[cal].index))\n",
    "    f.allocate()\n",
    "    \n",
    "    f.concentration.loc[dict(specie='CO2')] = conc_df.values[:,None]\n",
    "    f.concentration.loc[dict(specie='CH4')] = 808.2490285\n",
    "    f.concentration.loc[dict(specie='N2O')] = 273.021047\n",
    "        \n",
    "    # Get default species configs\n",
    "    f.fill_species_configs()\n",
    "        \n",
    "    # climate response\n",
    "    fill(f.climate_configs[\"ocean_heat_capacity\"], cal_df[cal].loc[:, \"clim_c1\":\"clim_c3\"].values)\n",
    "    fill(\n",
    "        f.climate_configs[\"ocean_heat_transfer\"],\n",
    "        cal_df[cal].loc[:, \"clim_kappa1\":\"clim_kappa3\"].values,\n",
    "    )\n",
    "    fill(f.climate_configs[\"deep_ocean_efficacy\"], cal_df[cal].loc[:, \"clim_epsilon\"])\n",
    "    fill(f.climate_configs[\"gamma_autocorrelation\"], cal_df[cal].loc[:, \"clim_gamma\"])\n",
    "    fill(f.climate_configs[\"sigma_eta\"], cal_df[cal].loc[:, \"clim_sigma_eta\"])\n",
    "    fill(f.climate_configs[\"sigma_xi\"], cal_df[cal].loc[:, \"clim_sigma_xi\"])\n",
    "    fill(f.climate_configs[\"seed\"], cal_df[cal].loc[:, \"seed\"])\n",
    "    fill(f.climate_configs[\"stochastic_run\"], False)\n",
    "    fill(f.climate_configs[\"use_seed\"], True)\n",
    "    fill(f.climate_configs[\"forcing_4co2\"], cal_df[cal].loc[:, \"clim_F_4xCO2\"])\n",
    "    \n",
    "    # carbon cycle\n",
    "    fill(f.species_configs[\"iirf_0\"], cal_df[cal].loc[:,\"cc_r0\"], specie=\"CO2\")\n",
    "    fill(f.species_configs[\"iirf_airborne\"], cal_df[cal].loc[:,\"cc_rA\"], specie=\"CO2\")\n",
    "    fill(f.species_configs[\"iirf_uptake\"], cal_df[cal].loc[:,\"cc_rU\"], specie=\"CO2\")\n",
    "    fill(f.species_configs[\"iirf_temperature\"], cal_df[cal].loc[:,\"cc_rT\"], specie=\"CO2\")\n",
    "    \n",
    "    # forcing scaling\n",
    "    fill(f.species_configs[\"forcing_scale\"], cal_df[cal].loc[:, \"fscale_CO2\"], specie=\"CO2\")\n",
    "    \n",
    "    # initial condition of CO2 concentration (but not baseline for forcing calculations)\n",
    "    fill(\n",
    "        f.species_configs[\"baseline_concentration\"],\n",
    "        cal_df[cal].loc[:,\"cc_co2_concentration_1750\"],\n",
    "        specie=\"CO2\",\n",
    "    )\n",
    "    fill(f.species_configs['baseline_concentration'], 808.2490285, specie='CH4')\n",
    "    fill(f.species_configs['baseline_concentration'], 273.021047, specie='N2O')\n",
    "        \n",
    "    initialise(f.forcing, 0)\n",
    "    initialise(f.temperature, 0)\n",
    "    initialise(f.airborne_emissions, 0)\n",
    "    initialise(f.cumulative_emissions, 0)\n",
    "    #initialise(f_iter[cal][year].alpha_lifetime, f_iter[cal][year-1].alpha_lifetime[-1, ...])\n",
    "    #f_iter[cal][year].gas_partitions=copy.deepcopy(f_iter[cal][year-1].gas_partitions)\n",
    "    \n",
    "    # do the run\n",
    "    f.run(progress=False)\n",
    "    temperature[cal] = f.temperature.sel(layer=0, scenario=\"1pctCO2\")\n",
    "    emissions[cal] = f.emissions.sel(scenario=\"1pctCO2\", specie=\"CO2\")"
   ]
  },
  {
   "cell_type": "code",
   "execution_count": null,
   "id": "fb91e761-0d48-4f95-991f-959bdb0ed1b5",
   "metadata": {},
   "outputs": [],
   "source": [
    "pl.plot(emissions['1.4.0']);"
   ]
  },
  {
   "cell_type": "code",
   "execution_count": null,
   "id": "977d0d03-63ba-4613-93bf-541a669a4f6f",
   "metadata": {},
   "outputs": [],
   "source": [
    "emissions['1.4.0'].to_pandas().to_csv('../output/1pctCO2_emissions_fair2.1.3_cal1.4.0.csv')"
   ]
  },
  {
   "cell_type": "code",
   "execution_count": null,
   "id": "f501c25c-7d7b-4cab-8b4a-6bc03dedde8c",
   "metadata": {},
   "outputs": [],
   "source": [
    "emissions['1.4.1'].to_pandas().to_csv('../output/1pctCO2_emissions_fair2.1.3_cal1.4.1.csv')"
   ]
  },
  {
   "cell_type": "code",
   "execution_count": null,
   "id": "48db39b4-9d7d-45bd-9d72-4058ebea089c",
   "metadata": {},
   "outputs": [],
   "source": [
    "temperature['1.4.0'].to_pandas().to_csv('../output/1pctCO2_temperature_fair2.1.3_cal1.4.0.csv')"
   ]
  },
  {
   "cell_type": "code",
   "execution_count": null,
   "id": "9ec401f5-e870-4ca1-8367-56f672963179",
   "metadata": {},
   "outputs": [],
   "source": [
    "temperature['1.4.1'].to_pandas().to_csv('../output/1pctCO2_temperature_fair2.1.3_cal1.4.1.csv')"
   ]
  },
  {
   "cell_type": "code",
   "execution_count": null,
   "id": "0e4a1252-d5f8-438a-a349-b9870e8c37d8",
   "metadata": {},
   "outputs": [],
   "source": []
  }
 ],
 "metadata": {
  "kernelspec": {
   "display_name": "Python 3 (ipykernel)",
   "language": "python",
   "name": "python3"
  },
  "language_info": {
   "codemirror_mode": {
    "name": "ipython",
    "version": 3
   },
   "file_extension": ".py",
   "mimetype": "text/x-python",
   "name": "python",
   "nbconvert_exporter": "python",
   "pygments_lexer": "ipython3",
   "version": "3.12.1"
  }
 },
 "nbformat": 4,
 "nbformat_minor": 5
}

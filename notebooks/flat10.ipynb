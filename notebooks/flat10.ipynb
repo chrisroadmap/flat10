{
 "cells": [
  {
   "cell_type": "markdown",
   "id": "11874bcf-fbaf-400d-9362-06038547f047",
   "metadata": {},
   "source": [
    "# Flat10 runs with FaIR v2.1.2"
   ]
  },
  {
   "cell_type": "code",
   "execution_count": null,
   "id": "dca2b7d7-40bf-4167-bc0d-2102df702550",
   "metadata": {},
   "outputs": [],
   "source": [
    "import os\n",
    "import fair\n",
    "from fair import FAIR\n",
    "from fair.interface import fill, initialise\n",
    "from fair.io import read_properties\n",
    "import numpy as np\n",
    "import matplotlib.pyplot as pl\n",
    "import pandas as pd\n",
    "import pooch\n",
    "from tqdm.auto import tqdm"
   ]
  },
  {
   "cell_type": "code",
   "execution_count": null,
   "id": "47feaa20-96b2-43cd-ae1a-9ef9f2058176",
   "metadata": {},
   "outputs": [],
   "source": [
    "fair.__version__"
   ]
  },
  {
   "cell_type": "code",
   "execution_count": null,
   "id": "846a6d21-e945-4ffe-b88b-a8f2ffe1d4b3",
   "metadata": {},
   "outputs": [],
   "source": [
    "f = FAIR()\n",
    "f.define_time(0, 320, 1)"
   ]
  },
  {
   "cell_type": "code",
   "execution_count": null,
   "id": "758b2889-3f3e-4d5e-bb42-b7c5b9394669",
   "metadata": {},
   "outputs": [],
   "source": [
    "scenarios = ['esm-flat10', 'esm-flat10_zec', 'esm-flat10_cdr']\n",
    "f.define_scenarios(scenarios)"
   ]
  },
  {
   "cell_type": "code",
   "execution_count": null,
   "id": "a8555b0b-f99d-4b10-85f4-4532d848c09d",
   "metadata": {},
   "outputs": [],
   "source": [
    "cal_1_2_0_file = pooch.retrieve(\n",
    "    url = \"https://zenodo.org/records/8399112/files/calibrated_constrained_parameters.csv\",\n",
    "    known_hash = \"md5:de3b83432b9d071efdd1427ad31e9076\"\n",
    ")"
   ]
  },
  {
   "cell_type": "code",
   "execution_count": null,
   "id": "6cad42b3-53f0-40bb-a2b3-fde495e9997c",
   "metadata": {},
   "outputs": [],
   "source": [
    "cal_1_2_0_df = pd.read_csv(cal_1_2_0_file, index_col=0)\n",
    "cal_1_2_0_df"
   ]
  },
  {
   "cell_type": "code",
   "execution_count": null,
   "id": "2e2a1bad-fce1-4137-91cc-40dc742d5c8c",
   "metadata": {},
   "outputs": [],
   "source": [
    "f.define_configs(list(cal_1_2_0_df.index))"
   ]
  },
  {
   "cell_type": "code",
   "execution_count": null,
   "id": "67daf43c-4afa-4b53-b3cd-3248c59c5371",
   "metadata": {},
   "outputs": [],
   "source": [
    "species = ['CO2', 'CH4', 'N2O']\n",
    "properties = {\n",
    "    \"CO2\": {\n",
    "        'type': 'co2',\n",
    "        'input_mode': 'emissions',\n",
    "        'greenhouse_gas': True,\n",
    "        'aerosol_chemistry_from_emissions': False,\n",
    "        'aerosol_chemistry_from_concentration': False\n",
    "    },\n",
    "    \"CH4\": {\n",
    "        'type': 'ch4',\n",
    "        'input_mode': 'emissions',\n",
    "        'greenhouse_gas': True,\n",
    "        'aerosol_chemistry_from_emissions': False,\n",
    "        'aerosol_chemistry_from_concentration': False\n",
    "    },\n",
    "    \"N2O\": {\n",
    "        'type': 'n2o',\n",
    "        'input_mode': 'emissions',\n",
    "        'greenhouse_gas': True,\n",
    "        'aerosol_chemistry_from_emissions': False,\n",
    "        'aerosol_chemistry_from_concentration': False\n",
    "    }\n",
    "}"
   ]
  },
  {
   "cell_type": "code",
   "execution_count": null,
   "id": "2102ec09-7b31-4eb0-95ee-52df8ea115b2",
   "metadata": {},
   "outputs": [],
   "source": [
    "# declare species and properties\n",
    "f.define_species(species, properties)"
   ]
  },
  {
   "cell_type": "code",
   "execution_count": null,
   "id": "d8692ca9-f579-454b-883b-42f381b91de3",
   "metadata": {},
   "outputs": [],
   "source": [
    "f.allocate()"
   ]
  },
  {
   "cell_type": "code",
   "execution_count": null,
   "id": "3bb435cb-80f2-418a-a40e-6b75fe07d4a5",
   "metadata": {},
   "outputs": [],
   "source": [
    "# fill emissions: zero for non-CO2\n",
    "f.emissions.loc[dict(specie=\"CH4\")] = 0\n",
    "f.emissions.loc[dict(specie=\"N2O\")] = 0"
   ]
  },
  {
   "cell_type": "code",
   "execution_count": null,
   "id": "6ebcbab2-bc2c-4812-aae7-14d70945900d",
   "metadata": {},
   "outputs": [],
   "source": [
    "# constant pre-industrial concentration for non-CO2 GHGs\n",
    "f.concentration.loc[dict(specie='CH4')] = 808.2490285\n",
    "f.concentration.loc[dict(specie='N2O')] = 273.021047"
   ]
  },
  {
   "cell_type": "code",
   "execution_count": null,
   "id": "444cd485-5d08-4bec-85a7-57f9af833d2d",
   "metadata": {},
   "outputs": [],
   "source": [
    "np.linspace(9.9, -9.9, 100)  # 100 timepoints, from years 100.5 to 199.5 inclusive"
   ]
  },
  {
   "cell_type": "code",
   "execution_count": null,
   "id": "1c511db3-0d5b-423b-9b3c-080394a151dd",
   "metadata": {},
   "outputs": [],
   "source": [
    "# fill emissions of CO2 for each scenario\n",
    "f.emissions.loc[dict(specie=\"CO2\", scenario=\"esm-flat10\")] = 10 * 44.009 / 12.011\n",
    "f.emissions.loc[dict(specie=\"CO2\", scenario=\"esm-flat10_zec\", timepoints=np.arange(0.5, 100))] = 10 * 44.009 / 12.011\n",
    "f.emissions.loc[dict(specie=\"CO2\", scenario=\"esm-flat10_zec\", timepoints=np.arange(100.5, 320))] = 0\n",
    "f.emissions.loc[dict(specie=\"CO2\", scenario=\"esm-flat10_cdr\", timepoints=np.arange(0.5, 100))] = 10 * 44.009 / 12.011\n",
    "f.emissions.loc[dict(specie=\"CO2\", scenario=\"esm-flat10_cdr\", timepoints=np.arange(100.5, 200))] = np.linspace(9.9, -9.9, 100)[:, None] * 44.009 / 12.011\n",
    "f.emissions.loc[dict(specie=\"CO2\", scenario=\"esm-flat10_cdr\", timepoints=np.arange(200.5, 300))] = -10 * 44.009 / 12.011\n",
    "f.emissions.loc[dict(specie=\"CO2\", scenario=\"esm-flat10_cdr\", timepoints=np.arange(300.5, 320))] = 0"
   ]
  },
  {
   "cell_type": "code",
   "execution_count": null,
   "id": "8eb3114b-e9fd-447f-bd64-c2577513f1b4",
   "metadata": {},
   "outputs": [],
   "source": [
    "# Get default species configs\n",
    "f.fill_species_configs()\n",
    "\n",
    "# Climate response\n",
    "fill(f.climate_configs['ocean_heat_capacity'], cal_1_2_0_df.loc[:,'clim_c1':'clim_c3'])\n",
    "fill(f.climate_configs['ocean_heat_transfer'], cal_1_2_0_df.loc[:,'clim_kappa1':'clim_kappa3'])\n",
    "fill(f.climate_configs['deep_ocean_efficacy'], cal_1_2_0_df.loc[:,'clim_epsilon'])\n",
    "fill(f.climate_configs['gamma_autocorrelation'], cal_1_2_0_df.loc[:,'clim_gamma'])\n",
    "fill(f.climate_configs['stochastic_run'], False)\n",
    "\n",
    "# carbon cycle\n",
    "fill(f.species_configs['iirf_0'], cal_1_2_0_df.loc[:, 'cc_r0'].values.squeeze(), specie='CO2')\n",
    "fill(f.species_configs['iirf_airborne'], cal_1_2_0_df.loc[:, 'cc_rA'].values.squeeze(), specie='CO2')\n",
    "fill(f.species_configs['iirf_uptake'], cal_1_2_0_df.loc[:, 'cc_rU'].values.squeeze(), specie='CO2')\n",
    "fill(f.species_configs['iirf_temperature'], cal_1_2_0_df.loc[:, 'cc_rT'].values.squeeze(), specie='CO2')\n",
    "\n",
    "# Scale CO2 forcing based on its 4xCO2 calibration\n",
    "fill(f.species_configs[\"forcing_scale\"], cal_1_2_0_df[\"fscale_CO2\"].values.squeeze(), specie='CO2')\n",
    "\n",
    "# initial condition of CO2 concentration (but not baseline for forcing calculations)\n",
    "fill(f.species_configs['baseline_concentration'], 284.3169988, specie='CO2')\n",
    "fill(f.species_configs['baseline_concentration'], 808.2490285, specie='CH4')\n",
    "fill(f.species_configs['baseline_concentration'], 273.021047, specie='N2O')"
   ]
  },
  {
   "cell_type": "code",
   "execution_count": null,
   "id": "3fdeb271-2e2e-4116-86bb-31b947762485",
   "metadata": {},
   "outputs": [],
   "source": [
    "f.species_configs"
   ]
  },
  {
   "cell_type": "code",
   "execution_count": null,
   "id": "9bf3efce-ae18-471e-b0d4-f60688e1e751",
   "metadata": {},
   "outputs": [],
   "source": [
    "# set initial conditions\n",
    "initialise(f.concentration, f.species_configs['baseline_concentration'])\n",
    "initialise(f.forcing, 0)\n",
    "initialise(f.temperature, 0)\n",
    "initialise(f.airborne_emissions, 0)\n",
    "initialise(f.cumulative_emissions, 0)"
   ]
  },
  {
   "cell_type": "code",
   "execution_count": null,
   "id": "97df073d-b82f-4d5c-ac9f-5486e44cd27e",
   "metadata": {},
   "outputs": [],
   "source": [
    "f.run()"
   ]
  },
  {
   "cell_type": "code",
   "execution_count": null,
   "id": "79858ff3-804b-4cc7-b9da-485e7e6292e0",
   "metadata": {},
   "outputs": [],
   "source": [
    "fig, ax = pl.subplots(2, 2)\n",
    "ax[0,0].plot(f.timepoints[:150], f.emissions.loc[dict(specie=\"CO2\", scenario=\"esm-flat10\", timepoints=np.arange(0.5, 150))], color='k', alpha=0.1);\n",
    "ax[0,0].plot(f.timepoints, f.emissions.loc[dict(specie=\"CO2\", scenario=\"esm-flat10_zec\")], color='b', alpha=0.1);\n",
    "ax[0,0].plot(f.timepoints, f.emissions.loc[dict(specie=\"CO2\", scenario=\"esm-flat10_cdr\")], color='r', alpha=0.1, ls=':');\n",
    "ax[0,1].plot(np.arange(0, 151), f.cumulative_emissions.loc[dict(specie=\"CO2\", scenario=\"esm-flat10\", timebounds=np.arange(0, 151))], color='k', alpha=0.1);\n",
    "ax[0,1].plot(f.cumulative_emissions.loc[dict(specie=\"CO2\", scenario=\"esm-flat10_zec\")], color='b', alpha=0.1);\n",
    "ax[0,1].plot(f.cumulative_emissions.loc[dict(specie=\"CO2\", scenario=\"esm-flat10_cdr\")], color='r', alpha=0.1, ls=':');\n",
    "ax[1,0].plot(np.arange(0, 151), f.concentration.loc[dict(specie=\"CO2\", scenario=\"esm-flat10\", timebounds=np.arange(0, 151))], color='k', alpha=0.1);\n",
    "ax[1,0].plot(f.concentration.loc[dict(specie=\"CO2\", scenario=\"esm-flat10_zec\")], color='b', alpha=0.1);\n",
    "ax[1,0].plot(f.concentration.loc[dict(specie=\"CO2\", scenario=\"esm-flat10_cdr\")], color='r', alpha=0.1, ls=':');\n",
    "ax[1,1].plot(np.arange(0, 151), f.temperature.loc[dict(layer=0, scenario=\"esm-flat10\", timebounds=np.arange(0, 151))], color='k', alpha=0.1);\n",
    "ax[1,1].plot(f.temperature.loc[dict(layer=0, scenario=\"esm-flat10_zec\")], color='b', alpha=0.1);\n",
    "ax[1,1].plot(f.temperature.loc[dict(layer=0, scenario=\"esm-flat10_cdr\")], color='r', alpha=0.1, ls=':');"
   ]
  },
  {
   "cell_type": "code",
   "execution_count": null,
   "id": "42b31427-f2c3-4cd5-b727-b019977dfcd8",
   "metadata": {},
   "outputs": [],
   "source": [
    "# TCRE is just warming at year 100!\n",
    "tcre = f.temperature.loc[dict(layer=0, scenario=\"esm-flat10\", timebounds=100)]\n",
    "pl.hist(tcre)"
   ]
  },
  {
   "cell_type": "code",
   "execution_count": null,
   "id": "9b0d6d90-9abb-4dc8-b9c5-57c330e389b5",
   "metadata": {},
   "outputs": [],
   "source": [
    "# ZEC50 is just warming at year 150 minus year 100!\n",
    "zec50 = f.temperature.loc[dict(layer=0, scenario=\"esm-flat10_zec\", timebounds=150)] - f.temperature.loc[dict(layer=0, scenario=\"esm-flat10_zec\", timebounds=100)]\n",
    "pl.hist(zec50)"
   ]
  },
  {
   "cell_type": "code",
   "execution_count": null,
   "id": "c47ef9ad-efb9-4dc2-a9de-6963579d7899",
   "metadata": {},
   "outputs": [],
   "source": [
    "# ZEC100 is just warming at year 200 minus year 100!\n",
    "zec100 = f.temperature.loc[dict(layer=0, scenario=\"esm-flat10_zec\", timebounds=200)] - f.temperature.loc[dict(layer=0, scenario=\"esm-flat10_zec\", timebounds=100)]\n",
    "pl.hist(zec100)"
   ]
  },
  {
   "cell_type": "code",
   "execution_count": null,
   "id": "00ae1719-e0c8-45ea-9de5-80533cdf8943",
   "metadata": {},
   "outputs": [],
   "source": [
    "# ZEC200 is just warming at year 300 minus year 100!\n",
    "zec200 = f.temperature.loc[dict(layer=0, scenario=\"esm-flat10_zec\", timebounds=300)] - f.temperature.loc[dict(layer=0, scenario=\"esm-flat10_zec\", timebounds=100)]\n",
    "pl.hist(zec200)"
   ]
  },
  {
   "cell_type": "code",
   "execution_count": null,
   "id": "11d87d44-2060-4ceb-b848-7f1ff9d7cdd5",
   "metadata": {},
   "outputs": [],
   "source": [
    "# TNZ can be calculated as a 20 year average around year 150 in esm-flat10-cdr minus a 20 year average around year 125 in esm-flat10\n",
    "tnz = f.temperature.loc[dict(layer=0, scenario=\"esm-flat10_cdr\", timebounds=150)] - f.temperature.loc[dict(layer=0, scenario=\"esm-flat10\", timebounds=125)]\n",
    "pl.hist(tnz)"
   ]
  },
  {
   "cell_type": "code",
   "execution_count": null,
   "id": "e8ba6ac0-b185-4781-98d0-a9e975e565b0",
   "metadata": {},
   "outputs": [],
   "source": [
    "# TR1000 can be calculated as a 20 year average around year 200 in esm-flat10-cdr minus a 20 year average around year 100 in esm-flat10\n",
    "tr1000 = f.temperature.loc[dict(layer=0, scenario=\"esm-flat10_cdr\", timebounds=200)] - f.temperature.loc[dict(layer=0, scenario=\"esm-flat10\", timebounds=100)]\n",
    "pl.hist(tr1000)"
   ]
  },
  {
   "cell_type": "code",
   "execution_count": null,
   "id": "a7b7670a-b3aa-4f04-82b6-2fe3f3de8198",
   "metadata": {},
   "outputs": [],
   "source": [
    "# TR0 can be calculated as a 20 year average around year 310 in esm-flat10-cdr\n",
    "tr0 = f.temperature.loc[dict(layer=0, scenario=\"esm-flat10_cdr\", timebounds=310)]\n",
    "pl.hist(tr0)"
   ]
  },
  {
   "cell_type": "code",
   "execution_count": null,
   "id": "4d73fbd8-52ba-4333-9e0d-ff6d1e5f8044",
   "metadata": {},
   "outputs": [],
   "source": [
    "# Time to Peak Warming (tPW) can be calculated as the time difference between the peak value of 20-year smoothed global mean temperatures and the point that net zero is achieved in esm-flat10-cdr (year 150)\n",
    "tpw = f.temperature.loc[dict(layer=0, scenario=\"esm-flat10_cdr\")].argmax(axis=0) - 150\n",
    "pl.hist(tpw)"
   ]
  },
  {
   "cell_type": "code",
   "execution_count": null,
   "id": "9be848b7-3098-47ed-9fb7-27e92c61cb2b",
   "metadata": {},
   "outputs": [],
   "source": [
    "df = pd.DataFrame(\n",
    "    {\n",
    "        \"tcre\": tcre,\n",
    "        \"zec50\": zec50,\n",
    "        \"zec100\": zec100,\n",
    "        \"zec200\": zec200,\n",
    "        \"tr1000\": tr1000,\n",
    "        \"tr0\": tr0,\n",
    "        \"tpw\": tpw,\n",
    "    },\n",
    "    index = f.configs\n",
    ")"
   ]
  },
  {
   "cell_type": "code",
   "execution_count": null,
   "id": "0200c52e-09a6-4bf3-8ada-881bc95d8328",
   "metadata": {},
   "outputs": [],
   "source": [
    "os.makedirs('../output/', exist_ok=True)\n",
    "df.to_csv('../output/flat10_key-metrics_fair2.1.2_cal1.2.0.csv')"
   ]
  },
  {
   "cell_type": "code",
   "execution_count": null,
   "id": "a73c1af3-264e-4c98-ba9b-bcd3648cfe6e",
   "metadata": {},
   "outputs": [],
   "source": []
  }
 ],
 "metadata": {
  "kernelspec": {
   "display_name": "Python 3 (ipykernel)",
   "language": "python",
   "name": "python3"
  },
  "language_info": {
   "codemirror_mode": {
    "name": "ipython",
    "version": 3
   },
   "file_extension": ".py",
   "mimetype": "text/x-python",
   "name": "python",
   "nbconvert_exporter": "python",
   "pygments_lexer": "ipython3",
   "version": "3.12.0"
  }
 },
 "nbformat": 4,
 "nbformat_minor": 5
}

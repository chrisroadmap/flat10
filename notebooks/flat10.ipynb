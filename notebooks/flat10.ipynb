{
 "cells": [
  {
   "cell_type": "markdown",
   "id": "11874bcf-fbaf-400d-9362-06038547f047",
   "metadata": {},
   "source": [
    "# Flat10 runs with FaIR v2.1.3"
   ]
  },
  {
   "cell_type": "code",
   "execution_count": null,
   "id": "dca2b7d7-40bf-4167-bc0d-2102df702550",
   "metadata": {},
   "outputs": [],
   "source": [
    "import os\n",
    "import fair\n",
    "from fair import FAIR\n",
    "from fair.interface import fill, initialise\n",
    "from fair.io import read_properties\n",
    "import numpy as np\n",
    "import matplotlib.pyplot as pl\n",
    "import pandas as pd\n",
    "import pooch\n",
    "import seaborn as sns\n",
    "from tqdm.auto import tqdm\n",
    "import xarray as xr"
   ]
  },
  {
   "cell_type": "code",
   "execution_count": null,
   "id": "47feaa20-96b2-43cd-ae1a-9ef9f2058176",
   "metadata": {},
   "outputs": [],
   "source": [
    "fair.__version__"
   ]
  },
  {
   "cell_type": "code",
   "execution_count": null,
   "id": "758b2889-3f3e-4d5e-bb42-b7c5b9394669",
   "metadata": {},
   "outputs": [],
   "source": [
    "scenarios = ['esm-flat10', 'esm-flat10_zec', 'esm-flat10_cdr']"
   ]
  },
  {
   "cell_type": "code",
   "execution_count": null,
   "id": "4fbb6028-af08-4a04-9f96-1d9216573d94",
   "metadata": {},
   "outputs": [],
   "source": [
    "calibrations = ['1.2.0', '1.4.0', '1.4.1']\n",
    "cal_df = {}"
   ]
  },
  {
   "cell_type": "code",
   "execution_count": null,
   "id": "a8555b0b-f99d-4b10-85f4-4532d848c09d",
   "metadata": {},
   "outputs": [],
   "source": [
    "cal_1_2_0_file = pooch.retrieve(\n",
    "    url = \"https://zenodo.org/records/8399112/files/calibrated_constrained_parameters.csv\",\n",
    "    known_hash = \"md5:de3b83432b9d071efdd1427ad31e9076\"\n",
    ")"
   ]
  },
  {
   "cell_type": "code",
   "execution_count": null,
   "id": "6cad42b3-53f0-40bb-a2b3-fde495e9997c",
   "metadata": {},
   "outputs": [],
   "source": [
    "cal_df['1.2.0'] = pd.read_csv(cal_1_2_0_file, index_col=0)\n",
    "cal_df['1.2.0']"
   ]
  },
  {
   "cell_type": "code",
   "execution_count": null,
   "id": "9a6fed31-12f5-4617-8db9-6aaac2bb5466",
   "metadata": {},
   "outputs": [],
   "source": [
    "# Not yet on Zenodo\n",
    "cal_df['1.4.0'] = pd.read_csv('../data/calibration/v1.4.0/calibrated_constrained_parameters.csv', index_col=0)\n",
    "cal_df['1.4.1'] = pd.read_csv('../data/calibration/v1.4.1/calibrated_constrained_parameters.csv', index_col=0)"
   ]
  },
  {
   "cell_type": "code",
   "execution_count": null,
   "id": "93621516-8ec2-426a-8509-cb1d17d5c106",
   "metadata": {},
   "outputs": [],
   "source": [
    "species = ['CO2', 'CH4', 'N2O']\n",
    "properties = {\n",
    "    \"CO2\": {\n",
    "        'type': 'co2',\n",
    "        'input_mode': 'emissions',\n",
    "        'greenhouse_gas': True,\n",
    "        'aerosol_chemistry_from_emissions': False,\n",
    "        'aerosol_chemistry_from_concentration': False\n",
    "    },\n",
    "    \"CH4\": {\n",
    "        'type': 'ch4',\n",
    "        'input_mode': 'emissions',\n",
    "        'greenhouse_gas': True,\n",
    "        'aerosol_chemistry_from_emissions': False,\n",
    "        'aerosol_chemistry_from_concentration': False\n",
    "    },\n",
    "    \"N2O\": {\n",
    "        'type': 'n2o',\n",
    "        'input_mode': 'emissions',\n",
    "        'greenhouse_gas': True,\n",
    "        'aerosol_chemistry_from_emissions': False,\n",
    "        'aerosol_chemistry_from_concentration': False\n",
    "    }\n",
    "}"
   ]
  },
  {
   "cell_type": "code",
   "execution_count": null,
   "id": "8cb7ea7c-abfe-43b2-8ebb-8ab6793c6234",
   "metadata": {},
   "outputs": [],
   "source": [
    "f = {}"
   ]
  },
  {
   "cell_type": "code",
   "execution_count": null,
   "id": "efd9fed6-0e9c-4ad6-8e6c-e254ea1e562f",
   "metadata": {},
   "outputs": [],
   "source": [
    "for cal in calibrations:\n",
    "    f[cal] = FAIR()\n",
    "    f[cal].define_time(0, 320, 1)\n",
    "    f[cal].define_scenarios(scenarios)\n",
    "    f[cal].define_configs(list(cal_df[cal].index))\n",
    "    \n",
    "    # declare species and properties\n",
    "    f[cal].define_species(species, properties)\n",
    "    \n",
    "    f[cal].allocate()\n",
    "    \n",
    "    # fill emissions: zero for non-CO2\n",
    "    f[cal].emissions.loc[dict(specie=\"CH4\")] = 0\n",
    "    f[cal].emissions.loc[dict(specie=\"N2O\")] = 0\n",
    "    \n",
    "    # constant pre-industrial concentration for non-CO2 GHGs\n",
    "    f[cal].concentration.loc[dict(specie='CH4')] = 808.2490285\n",
    "    f[cal].concentration.loc[dict(specie='N2O')] = 273.021047\n",
    "    \n",
    "    # fill emissions of CO2 for each scenario\n",
    "    f[cal].emissions.loc[dict(specie=\"CO2\", scenario=\"esm-flat10\")] = 10 * 44.009 / 12.011\n",
    "    f[cal].emissions.loc[dict(specie=\"CO2\", scenario=\"esm-flat10_zec\", timepoints=np.arange(0.5, 100))] = 10 * 44.009 / 12.011\n",
    "    f[cal].emissions.loc[dict(specie=\"CO2\", scenario=\"esm-flat10_zec\", timepoints=np.arange(100.5, 320))] = 0\n",
    "    f[cal].emissions.loc[dict(specie=\"CO2\", scenario=\"esm-flat10_cdr\", timepoints=np.arange(0.5, 100))] = 10 * 44.009 / 12.011\n",
    "    f[cal].emissions.loc[dict(specie=\"CO2\", scenario=\"esm-flat10_cdr\", timepoints=np.arange(100.5, 200))] = np.linspace(9.9, -9.9, 100)[:, None] * 44.009 / 12.011\n",
    "    f[cal].emissions.loc[dict(specie=\"CO2\", scenario=\"esm-flat10_cdr\", timepoints=np.arange(200.5, 300))] = -10 * 44.009 / 12.011\n",
    "    f[cal].emissions.loc[dict(specie=\"CO2\", scenario=\"esm-flat10_cdr\", timepoints=np.arange(300.5, 320))] = 0\n",
    "    \n",
    "    # Get default species configs\n",
    "    f[cal].fill_species_configs()\n",
    "\n",
    "    # Climate response\n",
    "    fill(f[cal].climate_configs['ocean_heat_capacity'], cal_df[cal].loc[:,'clim_c1':'clim_c3'])\n",
    "    fill(f[cal].climate_configs['ocean_heat_transfer'], cal_df[cal].loc[:,'clim_kappa1':'clim_kappa3'])\n",
    "    fill(f[cal].climate_configs['deep_ocean_efficacy'], cal_df[cal].loc[:,'clim_epsilon'])\n",
    "    fill(f[cal].climate_configs['gamma_autocorrelation'], cal_df[cal].loc[:,'clim_gamma'])\n",
    "    fill(f[cal].climate_configs['stochastic_run'], False)\n",
    "\n",
    "    # carbon cycle\n",
    "    fill(f[cal].species_configs['iirf_0'], cal_df[cal].loc[:, 'cc_r0'].values.squeeze(), specie='CO2')\n",
    "    fill(f[cal].species_configs['iirf_airborne'], cal_df[cal].loc[:, 'cc_rA'].values.squeeze(), specie='CO2')\n",
    "    fill(f[cal].species_configs['iirf_uptake'], cal_df[cal].loc[:, 'cc_rU'].values.squeeze(), specie='CO2')\n",
    "    fill(f[cal].species_configs['iirf_temperature'], cal_df[cal].loc[:, 'cc_rT'].values.squeeze(), specie='CO2')\n",
    "\n",
    "    # Scale CO2 forcing based on its 4xCO2 calibration\n",
    "    fill(f[cal].species_configs[\"forcing_scale\"], cal_df[cal][\"fscale_CO2\"].values.squeeze(), specie='CO2')\n",
    "\n",
    "    # initial condition of CO2 concentration (but not baseline for forcing calculations)\n",
    "    fill(f[cal].species_configs['baseline_concentration'], 284.3169988, specie='CO2')\n",
    "    fill(f[cal].species_configs['baseline_concentration'], 808.2490285, specie='CH4')\n",
    "    fill(f[cal].species_configs['baseline_concentration'], 273.021047, specie='N2O')\n",
    "    \n",
    "    # set initial conditions\n",
    "    initialise(f[cal].concentration, f[cal].species_configs['baseline_concentration'])\n",
    "    initialise(f[cal].forcing, 0)\n",
    "    initialise(f[cal].temperature, 0)\n",
    "    initialise(f[cal].airborne_emissions, 0)\n",
    "    initialise(f[cal].cumulative_emissions, 0)\n",
    "    \n",
    "    f[cal].run()"
   ]
  },
  {
   "cell_type": "code",
   "execution_count": null,
   "id": "79858ff3-804b-4cc7-b9da-485e7e6292e0",
   "metadata": {},
   "outputs": [],
   "source": [
    "for cal in calibrations:\n",
    "    fig, ax = pl.subplots(2, 2)\n",
    "    ax[0,0].plot(f[cal].timepoints[:150], f[cal].emissions.loc[dict(specie=\"CO2\", scenario=\"esm-flat10\", timepoints=np.arange(0.5, 150))], color='k', alpha=0.1);\n",
    "    ax[0,0].plot(f[cal].timepoints, f[cal].emissions.loc[dict(specie=\"CO2\", scenario=\"esm-flat10_zec\")], color='b', alpha=0.1);\n",
    "    ax[0,0].plot(f[cal].timepoints, f[cal].emissions.loc[dict(specie=\"CO2\", scenario=\"esm-flat10_cdr\")], color='r', alpha=0.1, ls=':');\n",
    "    ax[0,1].plot(np.arange(0, 151), f[cal].cumulative_emissions.loc[dict(specie=\"CO2\", scenario=\"esm-flat10\", timebounds=np.arange(0, 151))], color='k', alpha=0.1);\n",
    "    ax[0,1].plot(f[cal].cumulative_emissions.loc[dict(specie=\"CO2\", scenario=\"esm-flat10_zec\")], color='b', alpha=0.1);\n",
    "    ax[0,1].plot(f[cal].cumulative_emissions.loc[dict(specie=\"CO2\", scenario=\"esm-flat10_cdr\")], color='r', alpha=0.1, ls=':');\n",
    "    ax[1,0].plot(np.arange(0, 151), f[cal].concentration.loc[dict(specie=\"CO2\", scenario=\"esm-flat10\", timebounds=np.arange(0, 151))], color='k', alpha=0.1);\n",
    "    ax[1,0].plot(f[cal].concentration.loc[dict(specie=\"CO2\", scenario=\"esm-flat10_zec\")], color='b', alpha=0.1);\n",
    "    ax[1,0].plot(f[cal].concentration.loc[dict(specie=\"CO2\", scenario=\"esm-flat10_cdr\")], color='r', alpha=0.1, ls=':');\n",
    "    ax[1,1].plot(np.arange(0, 151), f[cal].temperature.loc[dict(layer=0, scenario=\"esm-flat10\", timebounds=np.arange(0, 151))], color='k', alpha=0.1);\n",
    "    ax[1,1].plot(f[cal].temperature.loc[dict(layer=0, scenario=\"esm-flat10_zec\")], color='b', alpha=0.1);\n",
    "    ax[1,1].plot(f[cal].temperature.loc[dict(layer=0, scenario=\"esm-flat10_cdr\")], color='r', alpha=0.1, ls=':');"
   ]
  },
  {
   "cell_type": "code",
   "execution_count": null,
   "id": "a911918e-127c-4e67-91a2-7f84e5e821b6",
   "metadata": {},
   "outputs": [],
   "source": [
    "for cal in calibrations:\n",
    "    fig, ax = pl.subplots()\n",
    "    pl.plot(np.arange(0, 151), f[cal].airborne_fraction.loc[dict(specie=\"CO2\", scenario=\"esm-flat10\", timebounds=np.arange(0, 151))], color='k', alpha=0.1);\n",
    "    pl.plot(f[cal].airborne_fraction.loc[dict(specie=\"CO2\", scenario=\"esm-flat10_zec\")], color='b', alpha=0.1);\n",
    "    pl.plot(np.arange(0, 291), f[cal].airborne_fraction.loc[dict(specie=\"CO2\", scenario=\"esm-flat10_cdr\", timebounds=np.arange(0, 291))], color='r', alpha=0.1, ls=':');"
   ]
  },
  {
   "cell_type": "code",
   "execution_count": null,
   "id": "c059f452-8cec-4383-a870-bcd7ba0a81ae",
   "metadata": {},
   "outputs": [],
   "source": [
    "tcre = {}\n",
    "zec50 = {}\n",
    "zec100 = {}\n",
    "zec200 = {}\n",
    "tr1000 = {}\n",
    "tr0 = {}\n",
    "tpw = {}\n",
    "\n",
    "for cal in calibrations:\n",
    "    # TCRE is just warming at year 100\n",
    "    tcre[cal] = f[cal].temperature.loc[dict(layer=0, scenario=\"esm-flat10\", timebounds=100)]\n",
    "\n",
    "    # ZEC50 is just warming at year 150 minus year 100\n",
    "    zec50[cal] = (\n",
    "        f[cal].temperature.loc[dict(layer=0, scenario=\"esm-flat10_zec\", timebounds=150)] - \n",
    "        f[cal].temperature.loc[dict(layer=0, scenario=\"esm-flat10_zec\", timebounds=100)]\n",
    "    )\n",
    "\n",
    "    # ZEC100 is just warming at year 200 minus year 100\n",
    "    zec100[cal] = (\n",
    "        f[cal].temperature.loc[dict(layer=0, scenario=\"esm-flat10_zec\", timebounds=200)] - \n",
    "        f[cal].temperature.loc[dict(layer=0, scenario=\"esm-flat10_zec\", timebounds=100)]\n",
    "    )\n",
    "\n",
    "    # ZEC200 is just warming at year 300 minus year 100\n",
    "    zec200[cal] = (\n",
    "        f[cal].temperature.loc[dict(layer=0, scenario=\"esm-flat10_zec\", timebounds=300)] - \n",
    "        f[cal].temperature.loc[dict(layer=0, scenario=\"esm-flat10_zec\", timebounds=100)]\n",
    "    )\n",
    "\n",
    "    # # TNZ can be calculated as a 20 year average around year 150 in esm-flat10-cdr minus a 20 year average around year 125 in esm-flat10\n",
    "    # tnz = (\n",
    "    #     f.temperature.loc[dict(layer=0, scenario=\"esm-flat10_cdr\", timebounds=150)] - \n",
    "    #     f.temperature.loc[dict(layer=0, scenario=\"esm-flat10\", timebounds=125)]\n",
    "    # )\n",
    "\n",
    "    # TR1000 can be calculated as a 20 year average around year 200 in esm-flat10-cdr minus a 20 year average around year 100 in esm-flat10\n",
    "    tr1000[cal] = (\n",
    "        f[cal].temperature.loc[dict(layer=0, scenario=\"esm-flat10_cdr\", timebounds=200)] - \n",
    "        f[cal].temperature.loc[dict(layer=0, scenario=\"esm-flat10\", timebounds=100)]\n",
    "    )\n",
    "\n",
    "    # TR0 can be calculated as a 20 year average around year 310 in esm-flat10-cdr\n",
    "    tr0[cal] = f[cal].temperature.loc[dict(layer=0, scenario=\"esm-flat10_cdr\", timebounds=310)]\n",
    "\n",
    "    # Time to Peak Warming (tPW) can be calculated as the time difference between the peak value of 20-year smoothed global mean \n",
    "    # temperatures and the point that net zero is achieved in esm-flat10-cdr (year 150)\n",
    "    tpw[cal] = f[cal].temperature.loc[dict(layer=0, scenario=\"esm-flat10_cdr\")].argmax(axis=0) - 150"
   ]
  },
  {
   "cell_type": "code",
   "execution_count": null,
   "id": "9be848b7-3098-47ed-9fb7-27e92c61cb2b",
   "metadata": {},
   "outputs": [],
   "source": [
    "df = {}\n",
    "for cal in calibrations:\n",
    "    df[cal] = pd.DataFrame(\n",
    "        {\n",
    "            \"tcre\": tcre[cal],\n",
    "            \"zec50\": zec50[cal],\n",
    "            \"zec100\": zec100[cal],\n",
    "            \"zec200\": zec200[cal],\n",
    "            \"tr1000\": tr1000[cal],\n",
    "            \"tr0\": tr0[cal],\n",
    "            \"tpw\": tpw[cal],\n",
    "        },\n",
    "        index = f[cal].configs\n",
    "    )"
   ]
  },
  {
   "cell_type": "code",
   "execution_count": null,
   "id": "93d5f0e0-aa70-4b42-97c0-2d612a125515",
   "metadata": {},
   "outputs": [],
   "source": [
    "for cal in calibrations:\n",
    "    sns.pairplot(\n",
    "        df[cal],\n",
    "        corner=True,\n",
    "        plot_kws={\"alpha\": 0.5},\n",
    "        height=1,\n",
    "    )\n",
    "    pl.suptitle(f'Calibration v{cal}')"
   ]
  },
  {
   "cell_type": "code",
   "execution_count": null,
   "id": "0200c52e-09a6-4bf3-8ada-881bc95d8328",
   "metadata": {},
   "outputs": [],
   "source": [
    "os.makedirs('../output/', exist_ok=True)\n",
    "for cal in calibrations:\n",
    "    df[cal].to_csv(f'../output/flat10_key-metrics_fair2.1.3_cal{cal}.csv')"
   ]
  },
  {
   "cell_type": "code",
   "execution_count": null,
   "id": "e9f76e33-3369-4383-8308-225a1119bbb9",
   "metadata": {},
   "outputs": [],
   "source": [
    "for cal in calibrations:\n",
    "    ds = xr.Dataset(\n",
    "        data_vars=dict(\n",
    "            temperature=([\"time\", \"scenario\", \"config\"], f[cal].temperature.loc[dict(layer=0)].data),\n",
    "            co2_concentration=([\"time\", \"scenario\", \"config\"], f[cal].concentration.loc[dict(specie=\"CO2\")].data),\n",
    "            airborne_fraction=([\"time\", \"scenario\", \"config\"], f[cal].airborne_fraction.loc[dict(specie=\"CO2\")].data),\n",
    "            ecs=([\"config\"], f[cal].ebms.ecs.data),\n",
    "            tcr=([\"config\"], f[cal].ebms.tcr.data),\n",
    "            tcre=([\"config\"], tcre[cal].data),\n",
    "            zec50=([\"config\"], zec50[cal].data),\n",
    "            zec100=([\"config\"], zec100[cal].data),\n",
    "            zec200=([\"config\"], zec200[cal].data),\n",
    "            tr1000=([\"config\"], tr1000[cal].data),\n",
    "            tr0=([\"config\"], tr0[cal].data),\n",
    "            tpw=([\"config\"], tpw[cal].data),\n",
    "        ),\n",
    "        coords=dict(\n",
    "            time=np.arange(321),\n",
    "            config=list(cal_df[cal].index),\n",
    "            scenario=scenarios\n",
    "        ),\n",
    "    )\n",
    "    ds.to_netcdf(f'../output/flat10_all-output_fair2.1.3_cal{cal}.nc')"
   ]
  },
  {
   "cell_type": "code",
   "execution_count": null,
   "id": "ac7d9776-dbd9-41ee-b715-2cd3f6adc5e5",
   "metadata": {},
   "outputs": [],
   "source": []
  }
 ],
 "metadata": {
  "kernelspec": {
   "display_name": ".conda-flat10 Python (Conda)",
   "language": "python",
   "name": "conda-env-.conda-flat10-py"
  },
  "language_info": {
   "codemirror_mode": {
    "name": "ipython",
    "version": 3
   },
   "file_extension": ".py",
   "mimetype": "text/x-python",
   "name": "python",
   "nbconvert_exporter": "python",
   "pygments_lexer": "ipython3",
   "version": "3.12.1"
  }
 },
 "nbformat": 4,
 "nbformat_minor": 5
}

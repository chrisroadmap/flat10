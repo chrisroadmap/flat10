{
 "cells": [
  {
   "cell_type": "markdown",
   "id": "5bc49a5d-d4dd-4fc4-b077-3e5278b47ca0",
   "metadata": {},
   "source": [
    "# 1pct branch runs with FaIR v2.1.2\n",
    "\n",
    "We have to run iteratively, get the point at which 1000 PgC is hit, and save out the carbon and temperature states."
   ]
  },
  {
   "cell_type": "code",
   "execution_count": null,
   "id": "5310091a-116a-4933-80ce-15e600e0f45c",
   "metadata": {},
   "outputs": [],
   "source": [
    "import os\n",
    "import copy\n",
    "import pickle\n",
    "\n",
    "import fair\n",
    "from fair import FAIR\n",
    "from fair.interface import fill, initialise\n",
    "from fair.io import read_properties\n",
    "import pandas as pd\n",
    "import pooch\n",
    "import numpy as np\n",
    "import matplotlib.pyplot as pl\n",
    "from tqdm.auto import tqdm\n",
    "import xarray as xr"
   ]
  },
  {
   "cell_type": "code",
   "execution_count": null,
   "id": "f4bd1bf8-4234-474e-94f6-6328e626a234",
   "metadata": {},
   "outputs": [],
   "source": [
    "fair.__version__"
   ]
  },
  {
   "cell_type": "code",
   "execution_count": null,
   "id": "b8bc6864-6105-4d49-8e90-ccff389999a1",
   "metadata": {},
   "outputs": [],
   "source": [
    "species = [\"CO2\", \"CH4\", \"N2O\"]\n",
    "properties = {\n",
    "    \"CO2\": {\n",
    "        \"type\": \"co2\",\n",
    "        \"input_mode\": \"concentration\",\n",
    "        \"greenhouse_gas\": True,\n",
    "        \"aerosol_chemistry_from_emissions\": False,\n",
    "        \"aerosol_chemistry_from_concentration\": False,\n",
    "    },\n",
    "    \"CH4\": {\n",
    "        \"type\": \"ch4\",\n",
    "        \"input_mode\": \"concentration\",\n",
    "        \"greenhouse_gas\": True,\n",
    "        \"aerosol_chemistry_from_emissions\": False,\n",
    "        \"aerosol_chemistry_from_concentration\": False,\n",
    "    },\n",
    "    \"N2O\": {\n",
    "        \"type\": \"n2o\",\n",
    "        \"input_mode\": \"concentration\",\n",
    "        \"greenhouse_gas\": True,\n",
    "        \"aerosol_chemistry_from_emissions\": False,\n",
    "        \"aerosol_chemistry_from_concentration\": False,\n",
    "    },\n",
    "}"
   ]
  },
  {
   "cell_type": "code",
   "execution_count": null,
   "id": "6fe61047-200e-49fa-9d77-423f742609a9",
   "metadata": {},
   "outputs": [],
   "source": [
    "cal_1_2_0_file = pooch.retrieve(\n",
    "    url = \"https://zenodo.org/records/8399112/files/calibrated_constrained_parameters.csv\",\n",
    "    known_hash = \"md5:de3b83432b9d071efdd1427ad31e9076\"\n",
    ")"
   ]
  },
  {
   "cell_type": "code",
   "execution_count": null,
   "id": "f675d2ec-326d-46ec-baf2-a4c88524f479",
   "metadata": {},
   "outputs": [],
   "source": [
    "cal_1_2_0_df = pd.read_csv(cal_1_2_0_file, index_col=0)"
   ]
  },
  {
   "cell_type": "code",
   "execution_count": null,
   "id": "09771f58-9f2b-4abd-8ddb-fa4de7c4577f",
   "metadata": {},
   "outputs": [],
   "source": [
    "conc_df = pd.read_csv('../data/1pctCO2_concentrations.csv', index_col=0)"
   ]
  },
  {
   "cell_type": "code",
   "execution_count": null,
   "id": "e60c4d6a-3579-48aa-bc7a-106b5226f4b0",
   "metadata": {},
   "outputs": [],
   "source": [
    "f_iter = {}"
   ]
  },
  {
   "cell_type": "code",
   "execution_count": null,
   "id": "f8a8b002-466c-4e53-bf8d-cdf439d4ca92",
   "metadata": {},
   "outputs": [],
   "source": [
    "gasbox_restarts = {}\n",
    "temperature_restarts = {}\n",
    "forcing_restarts = {}\n",
    "airborne_restarts = {}\n",
    "cumulative_restarts = {}\n",
    "alpha_restarts = {}"
   ]
  },
  {
   "cell_type": "code",
   "execution_count": null,
   "id": "c3cc7fe3-4755-48de-b05c-4d9aaeb3d83f",
   "metadata": {},
   "outputs": [],
   "source": [
    "hit1000_df = pd.Series([False]*1001, index=cal_1_2_0_df.index)\n",
    "hit1000_df"
   ]
  },
  {
   "cell_type": "code",
   "execution_count": null,
   "id": "0937f77f-7348-4f3f-b29e-69ce1d0db053",
   "metadata": {},
   "outputs": [],
   "source": [
    "scenarios = ['1pctCO2']"
   ]
  },
  {
   "cell_type": "code",
   "execution_count": null,
   "id": "b5e6a4ab-a226-449e-ba0e-b9f18a1f8ac2",
   "metadata": {},
   "outputs": [],
   "source": [
    "# set up a dummy fair run for the purposes of using the structure for year[0]\n",
    "f_iter[-1] = FAIR()\n",
    "f_iter[-1].define_time(-1, 0, 1)\n",
    "f_iter[-1].define_scenarios(scenarios)\n",
    "f_iter[-1].define_species(species, properties)\n",
    "f_iter[-1].define_configs(list(cal_1_2_0_df.index))\n",
    "f_iter[-1].allocate()\n",
    "fill(f_iter[-1].forcing, 0)\n",
    "fill(f_iter[-1].temperature, 0)\n",
    "fill(f_iter[-1].airborne_emissions, 0)\n",
    "fill(f_iter[-1].cumulative_emissions, 0)\n",
    "fill(f_iter[-1].alpha_lifetime, 1)"
   ]
  },
  {
   "cell_type": "code",
   "execution_count": null,
   "id": "29c3c9f4-e59f-4331-81fd-88bed21743a4",
   "metadata": {},
   "outputs": [],
   "source": [
    "for year in tqdm(range(140)):\n",
    "    f_iter[year] = FAIR()\n",
    "    f_iter[year].define_time(year, year+1, 1)\n",
    "    f_iter[year].define_scenarios(scenarios)\n",
    "    f_iter[year].define_species(species, properties)\n",
    "    f_iter[year].define_configs(list(cal_1_2_0_df.index))\n",
    "    f_iter[year].allocate()\n",
    "\n",
    "    f_iter[year].concentration.loc[dict(specie='CO2')] = conc_df.values[year:year+2,None]\n",
    "    f_iter[year].concentration.loc[dict(specie='CH4')] = 808.2490285\n",
    "    f_iter[year].concentration.loc[dict(specie='N2O')] = 273.021047\n",
    "    \n",
    "    # Get default species configs\n",
    "    f_iter[year].fill_species_configs()\n",
    "    \n",
    "    # climate response\n",
    "    fill(f_iter[year].climate_configs[\"ocean_heat_capacity\"], cal_1_2_0_df.loc[:, \"clim_c1\":\"clim_c3\"].values)\n",
    "    fill(\n",
    "        f_iter[year].climate_configs[\"ocean_heat_transfer\"],\n",
    "        cal_1_2_0_df.loc[:, \"clim_kappa1\":\"clim_kappa3\"].values,\n",
    "    )\n",
    "    fill(f_iter[year].climate_configs[\"deep_ocean_efficacy\"], cal_1_2_0_df.loc[:, \"clim_epsilon\"])\n",
    "    fill(f_iter[year].climate_configs[\"gamma_autocorrelation\"], cal_1_2_0_df.loc[:, \"clim_gamma\"])\n",
    "    fill(f_iter[year].climate_configs[\"sigma_eta\"], cal_1_2_0_df.loc[:, \"clim_sigma_eta\"])\n",
    "    fill(f_iter[year].climate_configs[\"sigma_xi\"], cal_1_2_0_df.loc[:, \"clim_sigma_xi\"])\n",
    "    fill(f_iter[year].climate_configs[\"seed\"], cal_1_2_0_df.loc[:, \"seed\"])\n",
    "    fill(f_iter[year].climate_configs[\"stochastic_run\"], False)\n",
    "    fill(f_iter[year].climate_configs[\"use_seed\"], True)\n",
    "    fill(f_iter[year].climate_configs[\"forcing_4co2\"], cal_1_2_0_df.loc[:, \"clim_F_4xCO2\"])\n",
    "\n",
    "    # carbon cycle\n",
    "    fill(f_iter[year].species_configs[\"iirf_0\"], cal_1_2_0_df.loc[:,\"cc_r0\"], specie=\"CO2\")\n",
    "    fill(\n",
    "        f_iter[year].species_configs[\"iirf_airborne\"], cal_1_2_0_df.loc[:,\"cc_rA\"], specie=\"CO2\"\n",
    "    )\n",
    "    fill(f_iter[year].species_configs[\"iirf_uptake\"], cal_1_2_0_df.loc[:,\"cc_rU\"], specie=\"CO2\")\n",
    "    fill(\n",
    "        f_iter[year].species_configs[\"iirf_temperature\"],\n",
    "        cal_1_2_0_df.loc[:,\"cc_rT\"],\n",
    "        specie=\"CO2\",\n",
    "    )\n",
    "\n",
    "    # forcing scaling\n",
    "    fill(\n",
    "        f_iter[year].species_configs[\"forcing_scale\"],\n",
    "        cal_1_2_0_df.loc[:, \"fscale_CO2\"],\n",
    "        specie=\"CO2\",\n",
    "    )\n",
    "\n",
    "    # initial condition of CO2 concentration (but not baseline for forcing calculations)\n",
    "    fill(\n",
    "        f_iter[year].species_configs[\"baseline_concentration\"],\n",
    "        cal_1_2_0_df.loc[:,\"cc_co2_concentration_1750\"],\n",
    "        specie=\"CO2\",\n",
    "    )\n",
    "    fill(f_iter[year].species_configs['baseline_concentration'], 808.2490285, specie='CH4')\n",
    "    fill(f_iter[year].species_configs['baseline_concentration'], 273.021047, specie='N2O')\n",
    "    \n",
    "    initialise(f_iter[year].forcing, f_iter[year-1].forcing[-1, ...])\n",
    "    initialise(f_iter[year].temperature, f_iter[year-1].temperature[-1, ...])\n",
    "    initialise(f_iter[year].airborne_emissions, f_iter[year-1].airborne_emissions[-1, ...])\n",
    "    initialise(f_iter[year].cumulative_emissions, f_iter[year-1].cumulative_emissions[-1, ...])\n",
    "    initialise(f_iter[year].alpha_lifetime, f_iter[year-1].alpha_lifetime[-1, ...])\n",
    "    f_iter[year].gas_partitions=copy.deepcopy(f_iter[year-1].gas_partitions)\n",
    "\n",
    "    # do the run\n",
    "    f_iter[year].run(progress=False)\n",
    "\n",
    "    # check if over 1000 GtC\n",
    "    for iconf, config in enumerate(f_iter[year].configs):\n",
    "        if not hit1000_df.loc[config] and (f_iter[year].cumulative_emissions[-1, 0, iconf, 0] >= 1000*44.009/12.011):\n",
    "            hit1000_df.loc[config] = True\n",
    "            gasbox_restarts[config] = copy.deepcopy(f_iter[year].gas_partitions[0, iconf, :, :])\n",
    "            forcing_restarts[config] = copy.deepcopy(f_iter[year].forcing[-1, 0, iconf, :])\n",
    "            temperature_restarts[config] = copy.deepcopy(f_iter[year].temperature[-1, 0, iconf, :])\n",
    "            airborne_restarts[config] = copy.deepcopy(f_iter[year].airborne_emissions[-1, 0, iconf, :])\n",
    "            cumulative_restarts[config] = copy.deepcopy(f_iter[year].cumulative_emissions[-1, 0, iconf, :])\n",
    "            alpha_restarts[config] = copy.deepcopy(f_iter[year].alpha_lifetime[-1, 0, iconf, :])"
   ]
  },
  {
   "cell_type": "code",
   "execution_count": null,
   "id": "8082a3c7-d517-4b68-b89e-83edd4ca2679",
   "metadata": {},
   "outputs": [],
   "source": [
    "forcing_restarts"
   ]
  },
  {
   "cell_type": "code",
   "execution_count": null,
   "id": "a10b9519-4802-4a02-a6bb-fc0b93177ea4",
   "metadata": {},
   "outputs": [],
   "source": [
    "cumulative_restarts"
   ]
  },
  {
   "cell_type": "code",
   "execution_count": null,
   "id": "e02058a7-9870-4a7a-ba9e-6c5e1e928d90",
   "metadata": {},
   "outputs": [],
   "source": [
    "gasbox_restarts"
   ]
  },
  {
   "cell_type": "code",
   "execution_count": null,
   "id": "a9de055f-c0ac-4cfb-a9b3-156e15a8d300",
   "metadata": {},
   "outputs": [],
   "source": [
    "temperature_restarts"
   ]
  },
  {
   "cell_type": "code",
   "execution_count": null,
   "id": "83ccbda9-2845-4c1f-99eb-44d36a056d1b",
   "metadata": {},
   "outputs": [],
   "source": [
    "alpha_restarts"
   ]
  },
  {
   "cell_type": "code",
   "execution_count": null,
   "id": "3cbe2b47-f5d1-4507-b668-f979d9316506",
   "metadata": {},
   "outputs": [],
   "source": [
    "os.makedirs('../output/', exist_ok=True)"
   ]
  },
  {
   "cell_type": "code",
   "execution_count": null,
   "id": "977d0d03-63ba-4613-93bf-541a669a4f6f",
   "metadata": {},
   "outputs": [],
   "source": [
    "with open('../output/1pctCO2-1000PgC-alpha.pkl', 'wb') as pk:\n",
    "    pickle.dump(alpha_restarts, pk, pickle.HIGHEST_PROTOCOL)\n",
    "\n",
    "with open('../output/1pctCO2-1000PgC-airborne.pkl', 'wb') as pk:\n",
    "    pickle.dump(airborne_restarts, pk, pickle.HIGHEST_PROTOCOL)\n",
    "\n",
    "with open('../output/1pctCO2-1000PgC-cumulative.pkl', 'wb') as pk:\n",
    "    pickle.dump(cumulative_restarts, pk, pickle.HIGHEST_PROTOCOL)\n",
    "\n",
    "with open('../output/1pctCO2-1000PgC-forcing.pkl', 'wb') as pk:\n",
    "    pickle.dump(forcing_restarts, pk, pickle.HIGHEST_PROTOCOL)\n",
    "\n",
    "with open('../output/1pctCO2-1000PgC-temperature.pkl', 'wb') as pk:\n",
    "    pickle.dump(temperature_restarts, pk, pickle.HIGHEST_PROTOCOL)\n",
    "\n",
    "with open('../output/1pctCO2-1000PgC-gasbox.pkl', 'wb') as pk:\n",
    "    pickle.dump(gasbox_restarts, pk, pickle.HIGHEST_PROTOCOL)"
   ]
  },
  {
   "cell_type": "code",
   "execution_count": null,
   "id": "f501c25c-7d7b-4cab-8b4a-6bc03dedde8c",
   "metadata": {},
   "outputs": [],
   "source": []
  }
 ],
 "metadata": {
  "kernelspec": {
   "display_name": "Python 3 (ipykernel)",
   "language": "python",
   "name": "python3"
  },
  "language_info": {
   "codemirror_mode": {
    "name": "ipython",
    "version": 3
   },
   "file_extension": ".py",
   "mimetype": "text/x-python",
   "name": "python",
   "nbconvert_exporter": "python",
   "pygments_lexer": "ipython3",
   "version": "3.12.0"
  }
 },
 "nbformat": 4,
 "nbformat_minor": 5
}
